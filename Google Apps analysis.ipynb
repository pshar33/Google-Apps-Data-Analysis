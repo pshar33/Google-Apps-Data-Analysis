{
 "cells": [
  {
   "cell_type": "code",
   "execution_count": 1,
   "metadata": {},
   "outputs": [
    {
     "name": "stdout",
     "output_type": "stream",
     "text": [
      "['googleplaystore.csv', 'googleplaystore_user_reviews.csv', 'license.txt']\n"
     ]
    }
   ],
   "source": [
    "import warnings\n",
    "warnings.filterwarnings('ignore')\n",
    "import numpy as np # linear algebra\n",
    "import pandas as pd # data processing, CSV file I/O (e.g. pd.read_csv)\n",
    "\n",
    "# Input data files are available in the \"../input/\" directory.\n",
    "# For example, running this (by clicking run or pressing Shift+Enter) will list the files in the input directory\n",
    "import matplotlib.pyplot as plt # this is used for the plot the graph \n",
    "import seaborn as sns # used for plot interactive graph.\n",
    "\n",
    "import os\n",
    "from matplotlib import rcParams\n",
    "\n",
    "print(os.listdir(\"../parth/Desktop/google-play-store-apps\"))"
   ]
  },
  {
   "cell_type": "code",
   "execution_count": 2,
   "metadata": {},
   "outputs": [
    {
     "data": {
      "text/html": [
       "<div>\n",
       "<style scoped>\n",
       "    .dataframe tbody tr th:only-of-type {\n",
       "        vertical-align: middle;\n",
       "    }\n",
       "\n",
       "    .dataframe tbody tr th {\n",
       "        vertical-align: top;\n",
       "    }\n",
       "\n",
       "    .dataframe thead th {\n",
       "        text-align: right;\n",
       "    }\n",
       "</style>\n",
       "<table border=\"1\" class=\"dataframe\">\n",
       "  <thead>\n",
       "    <tr style=\"text-align: right;\">\n",
       "      <th></th>\n",
       "      <th>App</th>\n",
       "      <th>Category</th>\n",
       "      <th>Rating</th>\n",
       "      <th>Reviews</th>\n",
       "      <th>Size</th>\n",
       "      <th>Installs</th>\n",
       "      <th>Type</th>\n",
       "      <th>Price</th>\n",
       "      <th>Content Rating</th>\n",
       "      <th>Genres</th>\n",
       "      <th>Last Updated</th>\n",
       "      <th>Current Ver</th>\n",
       "      <th>Android Ver</th>\n",
       "    </tr>\n",
       "  </thead>\n",
       "  <tbody>\n",
       "    <tr>\n",
       "      <th>0</th>\n",
       "      <td>Photo Editor &amp; Candy Camera &amp; Grid &amp; ScrapBook</td>\n",
       "      <td>ART_AND_DESIGN</td>\n",
       "      <td>4.1</td>\n",
       "      <td>159</td>\n",
       "      <td>19M</td>\n",
       "      <td>10,000+</td>\n",
       "      <td>Free</td>\n",
       "      <td>0</td>\n",
       "      <td>Everyone</td>\n",
       "      <td>Art &amp; Design</td>\n",
       "      <td>January 7, 2018</td>\n",
       "      <td>1.0.0</td>\n",
       "      <td>4.0.3 and up</td>\n",
       "    </tr>\n",
       "    <tr>\n",
       "      <th>1</th>\n",
       "      <td>Coloring book moana</td>\n",
       "      <td>ART_AND_DESIGN</td>\n",
       "      <td>3.9</td>\n",
       "      <td>967</td>\n",
       "      <td>14M</td>\n",
       "      <td>500,000+</td>\n",
       "      <td>Free</td>\n",
       "      <td>0</td>\n",
       "      <td>Everyone</td>\n",
       "      <td>Art &amp; Design;Pretend Play</td>\n",
       "      <td>January 15, 2018</td>\n",
       "      <td>2.0.0</td>\n",
       "      <td>4.0.3 and up</td>\n",
       "    </tr>\n",
       "    <tr>\n",
       "      <th>2</th>\n",
       "      <td>U Launcher Lite – FREE Live Cool Themes, Hide ...</td>\n",
       "      <td>ART_AND_DESIGN</td>\n",
       "      <td>4.7</td>\n",
       "      <td>87510</td>\n",
       "      <td>8.7M</td>\n",
       "      <td>5,000,000+</td>\n",
       "      <td>Free</td>\n",
       "      <td>0</td>\n",
       "      <td>Everyone</td>\n",
       "      <td>Art &amp; Design</td>\n",
       "      <td>August 1, 2018</td>\n",
       "      <td>1.2.4</td>\n",
       "      <td>4.0.3 and up</td>\n",
       "    </tr>\n",
       "    <tr>\n",
       "      <th>3</th>\n",
       "      <td>Sketch - Draw &amp; Paint</td>\n",
       "      <td>ART_AND_DESIGN</td>\n",
       "      <td>4.5</td>\n",
       "      <td>215644</td>\n",
       "      <td>25M</td>\n",
       "      <td>50,000,000+</td>\n",
       "      <td>Free</td>\n",
       "      <td>0</td>\n",
       "      <td>Teen</td>\n",
       "      <td>Art &amp; Design</td>\n",
       "      <td>June 8, 2018</td>\n",
       "      <td>Varies with device</td>\n",
       "      <td>4.2 and up</td>\n",
       "    </tr>\n",
       "    <tr>\n",
       "      <th>4</th>\n",
       "      <td>Pixel Draw - Number Art Coloring Book</td>\n",
       "      <td>ART_AND_DESIGN</td>\n",
       "      <td>4.3</td>\n",
       "      <td>967</td>\n",
       "      <td>2.8M</td>\n",
       "      <td>100,000+</td>\n",
       "      <td>Free</td>\n",
       "      <td>0</td>\n",
       "      <td>Everyone</td>\n",
       "      <td>Art &amp; Design;Creativity</td>\n",
       "      <td>June 20, 2018</td>\n",
       "      <td>1.1</td>\n",
       "      <td>4.4 and up</td>\n",
       "    </tr>\n",
       "  </tbody>\n",
       "</table>\n",
       "</div>"
      ],
      "text/plain": [
       "                                                 App        Category  Rating  \\\n",
       "0     Photo Editor & Candy Camera & Grid & ScrapBook  ART_AND_DESIGN     4.1   \n",
       "1                                Coloring book moana  ART_AND_DESIGN     3.9   \n",
       "2  U Launcher Lite – FREE Live Cool Themes, Hide ...  ART_AND_DESIGN     4.7   \n",
       "3                              Sketch - Draw & Paint  ART_AND_DESIGN     4.5   \n",
       "4              Pixel Draw - Number Art Coloring Book  ART_AND_DESIGN     4.3   \n",
       "\n",
       "  Reviews  Size     Installs  Type Price Content Rating  \\\n",
       "0     159   19M      10,000+  Free     0       Everyone   \n",
       "1     967   14M     500,000+  Free     0       Everyone   \n",
       "2   87510  8.7M   5,000,000+  Free     0       Everyone   \n",
       "3  215644   25M  50,000,000+  Free     0           Teen   \n",
       "4     967  2.8M     100,000+  Free     0       Everyone   \n",
       "\n",
       "                      Genres      Last Updated         Current Ver  \\\n",
       "0               Art & Design   January 7, 2018               1.0.0   \n",
       "1  Art & Design;Pretend Play  January 15, 2018               2.0.0   \n",
       "2               Art & Design    August 1, 2018               1.2.4   \n",
       "3               Art & Design      June 8, 2018  Varies with device   \n",
       "4    Art & Design;Creativity     June 20, 2018                 1.1   \n",
       "\n",
       "    Android Ver  \n",
       "0  4.0.3 and up  \n",
       "1  4.0.3 and up  \n",
       "2  4.0.3 and up  \n",
       "3    4.2 and up  \n",
       "4    4.4 and up  "
      ]
     },
     "execution_count": 2,
     "metadata": {},
     "output_type": "execute_result"
    }
   ],
   "source": [
    "data = pd.read_csv('../parth/Desktop/google-play-store-apps/googleplaystore.csv')\n",
    "data2 = pd.read_csv('../parth/Desktop/google-play-store-apps/googleplaystore_user_reviews.csv')\n",
    "\n",
    "data.head()"
   ]
  },
  {
   "cell_type": "code",
   "execution_count": 3,
   "metadata": {},
   "outputs": [
    {
     "name": "stdout",
     "output_type": "stream",
     "text": [
      "Shape of the dataframe is (10841, 13)\n",
      "The number of nulls in each column are \n",
      " App                  0\n",
      "Category             0\n",
      "Rating            1474\n",
      "Reviews              0\n",
      "Size                 0\n",
      "Installs             0\n",
      "Type                 1\n",
      "Price                0\n",
      "Content Rating       1\n",
      "Genres               0\n",
      "Last Updated         0\n",
      "Current Ver          8\n",
      "Android Ver          3\n",
      "dtype: int64\n"
     ]
    }
   ],
   "source": [
    "print(\"Shape of the dataframe is\",data.shape)\n",
    "print(\"The number of nulls in each column are \\n\", data.isna().sum())"
   ]
  },
  {
   "cell_type": "code",
   "execution_count": 4,
   "metadata": {},
   "outputs": [
    {
     "name": "stdout",
     "output_type": "stream",
     "text": [
      "Percentage null or na values in df\n"
     ]
    },
    {
     "data": {
      "text/plain": [
       "App                0.00\n",
       "Category           0.00\n",
       "Rating            13.60\n",
       "Reviews            0.00\n",
       "Size               0.00\n",
       "Installs           0.00\n",
       "Type               0.01\n",
       "Price              0.00\n",
       "Content Rating     0.01\n",
       "Genres             0.00\n",
       "Last Updated       0.00\n",
       "Current Ver        0.07\n",
       "Android Ver        0.03\n",
       "dtype: float64"
      ]
     },
     "execution_count": 4,
     "metadata": {},
     "output_type": "execute_result"
    }
   ],
   "source": [
    "print(\"Percentage null or na values in df\")\n",
    "((data.isnull() | data.isna()).sum() * 100 / data.index.size).round(2)"
   ]
  },
  {
   "cell_type": "code",
   "execution_count": 5,
   "metadata": {},
   "outputs": [
    {
     "data": {
      "text/html": [
       "<div>\n",
       "<style scoped>\n",
       "    .dataframe tbody tr th:only-of-type {\n",
       "        vertical-align: middle;\n",
       "    }\n",
       "\n",
       "    .dataframe tbody tr th {\n",
       "        vertical-align: top;\n",
       "    }\n",
       "\n",
       "    .dataframe thead th {\n",
       "        text-align: right;\n",
       "    }\n",
       "</style>\n",
       "<table border=\"1\" class=\"dataframe\">\n",
       "  <thead>\n",
       "    <tr style=\"text-align: right;\">\n",
       "      <th></th>\n",
       "      <th>App</th>\n",
       "      <th>Category</th>\n",
       "      <th>Rating</th>\n",
       "      <th>Reviews</th>\n",
       "      <th>Size</th>\n",
       "      <th>Installs</th>\n",
       "      <th>Type</th>\n",
       "      <th>Price</th>\n",
       "      <th>Content Rating</th>\n",
       "      <th>Genres</th>\n",
       "      <th>Last Updated</th>\n",
       "      <th>Current Ver</th>\n",
       "      <th>Android Ver</th>\n",
       "    </tr>\n",
       "  </thead>\n",
       "  <tbody>\n",
       "    <tr>\n",
       "      <th>0</th>\n",
       "      <td>Photo Editor &amp; Candy Camera &amp; Grid &amp; ScrapBook</td>\n",
       "      <td>ART_AND_DESIGN</td>\n",
       "      <td>4.1</td>\n",
       "      <td>159</td>\n",
       "      <td>19M</td>\n",
       "      <td>10000</td>\n",
       "      <td>Free</td>\n",
       "      <td>0</td>\n",
       "      <td>Everyone</td>\n",
       "      <td>Art &amp; Design</td>\n",
       "      <td>January 7, 2018</td>\n",
       "      <td>1.0.0</td>\n",
       "      <td>4.0.3 and up</td>\n",
       "    </tr>\n",
       "    <tr>\n",
       "      <th>1</th>\n",
       "      <td>Coloring book moana</td>\n",
       "      <td>ART_AND_DESIGN</td>\n",
       "      <td>3.9</td>\n",
       "      <td>967</td>\n",
       "      <td>14M</td>\n",
       "      <td>500000</td>\n",
       "      <td>Free</td>\n",
       "      <td>0</td>\n",
       "      <td>Everyone</td>\n",
       "      <td>Art &amp; Design;Pretend Play</td>\n",
       "      <td>January 15, 2018</td>\n",
       "      <td>2.0.0</td>\n",
       "      <td>4.0.3 and up</td>\n",
       "    </tr>\n",
       "    <tr>\n",
       "      <th>2</th>\n",
       "      <td>U Launcher Lite – FREE Live Cool Themes, Hide ...</td>\n",
       "      <td>ART_AND_DESIGN</td>\n",
       "      <td>4.7</td>\n",
       "      <td>87510</td>\n",
       "      <td>8.7M</td>\n",
       "      <td>5000000</td>\n",
       "      <td>Free</td>\n",
       "      <td>0</td>\n",
       "      <td>Everyone</td>\n",
       "      <td>Art &amp; Design</td>\n",
       "      <td>August 1, 2018</td>\n",
       "      <td>1.2.4</td>\n",
       "      <td>4.0.3 and up</td>\n",
       "    </tr>\n",
       "    <tr>\n",
       "      <th>3</th>\n",
       "      <td>Sketch - Draw &amp; Paint</td>\n",
       "      <td>ART_AND_DESIGN</td>\n",
       "      <td>4.5</td>\n",
       "      <td>215644</td>\n",
       "      <td>25M</td>\n",
       "      <td>50000000</td>\n",
       "      <td>Free</td>\n",
       "      <td>0</td>\n",
       "      <td>Teen</td>\n",
       "      <td>Art &amp; Design</td>\n",
       "      <td>June 8, 2018</td>\n",
       "      <td>Varies with device</td>\n",
       "      <td>4.2 and up</td>\n",
       "    </tr>\n",
       "    <tr>\n",
       "      <th>4</th>\n",
       "      <td>Pixel Draw - Number Art Coloring Book</td>\n",
       "      <td>ART_AND_DESIGN</td>\n",
       "      <td>4.3</td>\n",
       "      <td>967</td>\n",
       "      <td>2.8M</td>\n",
       "      <td>100000</td>\n",
       "      <td>Free</td>\n",
       "      <td>0</td>\n",
       "      <td>Everyone</td>\n",
       "      <td>Art &amp; Design;Creativity</td>\n",
       "      <td>June 20, 2018</td>\n",
       "      <td>1.1</td>\n",
       "      <td>4.4 and up</td>\n",
       "    </tr>\n",
       "  </tbody>\n",
       "</table>\n",
       "</div>"
      ],
      "text/plain": [
       "                                                 App        Category  Rating  \\\n",
       "0     Photo Editor & Candy Camera & Grid & ScrapBook  ART_AND_DESIGN     4.1   \n",
       "1                                Coloring book moana  ART_AND_DESIGN     3.9   \n",
       "2  U Launcher Lite – FREE Live Cool Themes, Hide ...  ART_AND_DESIGN     4.7   \n",
       "3                              Sketch - Draw & Paint  ART_AND_DESIGN     4.5   \n",
       "4              Pixel Draw - Number Art Coloring Book  ART_AND_DESIGN     4.3   \n",
       "\n",
       "  Reviews  Size  Installs  Type Price Content Rating  \\\n",
       "0     159   19M     10000  Free     0       Everyone   \n",
       "1     967   14M    500000  Free     0       Everyone   \n",
       "2   87510  8.7M   5000000  Free     0       Everyone   \n",
       "3  215644   25M  50000000  Free     0           Teen   \n",
       "4     967  2.8M    100000  Free     0       Everyone   \n",
       "\n",
       "                      Genres      Last Updated         Current Ver  \\\n",
       "0               Art & Design   January 7, 2018               1.0.0   \n",
       "1  Art & Design;Pretend Play  January 15, 2018               2.0.0   \n",
       "2               Art & Design    August 1, 2018               1.2.4   \n",
       "3               Art & Design      June 8, 2018  Varies with device   \n",
       "4    Art & Design;Creativity     June 20, 2018                 1.1   \n",
       "\n",
       "    Android Ver  \n",
       "0  4.0.3 and up  \n",
       "1  4.0.3 and up  \n",
       "2  4.0.3 and up  \n",
       "3    4.2 and up  \n",
       "4    4.4 and up  "
      ]
     },
     "execution_count": 5,
     "metadata": {},
     "output_type": "execute_result"
    }
   ],
   "source": [
    "df=data\n",
    "df.Installs = df.Installs.replace(\"Free\", np.nan)\n",
    "df.dropna(how ='any', inplace = True)\n",
    "df.Installs = df.Installs.astype(str)\n",
    "df.Installs = df.Installs.apply(lambda x: x.replace(',',''))\n",
    "df.Installs = df.Installs.apply(lambda x: x.replace('+',''))\n",
    "df.Installs = df.Installs.apply(lambda x: int(x))\n",
    "df.head()"
   ]
  },
  {
   "cell_type": "code",
   "execution_count": 6,
   "metadata": {},
   "outputs": [],
   "source": [
    "df['Size'].replace('Varies with device', np.nan, inplace = True ) \n",
    "df.Size = (df.Size.replace(r'[kM]+$', '', regex=True).astype(float) * \\\n",
    "df.Size.str.extract(r'[\\d\\.]+([KM]+)', expand=False)\n",
    "            .fillna(1)\n",
    "            .replace(['k','M'], [10**3, 10**6]).astype(int))\n",
    "df.Size = df.Size.apply(lambda x: x/(10**6))\n",
    "df.rename(columns={'Size': 'Size(in MB)'}, inplace=True)\n",
    "# df.Size.unique()\n",
    "# df.head()\n",
    "df.Category = df.Category.apply(lambda x: x.replace('_',' '))\n",
    "df.Price = df.Price.apply(lambda x: x.replace('$',''))\n",
    "df.rename(columns={'Price': 'Price(in $)'}, inplace=True)"
   ]
  },
  {
   "cell_type": "markdown",
   "metadata": {},
   "source": [
    "# Data Visualization"
   ]
  },
  {
   "cell_type": "code",
   "execution_count": 7,
   "metadata": {},
   "outputs": [
    {
     "data": {
      "text/plain": [
       "Text(0.5, 1.0, 'TOTAL apps in each category')"
      ]
     },
     "execution_count": 7,
     "metadata": {},
     "output_type": "execute_result"
    },
    {
     "data": {
      "image/png": "[encoded data removed]",
      "text/plain": [
       "<Figure size 1080x504 with 1 Axes>"
      ]
     },
     "metadata": {
      "needs_background": "light"
     },
     "output_type": "display_data"
    }
   ],
   "source": [
    "rcParams['figure.figsize'] = 15,7\n",
    "category_plot = sns.countplot(x=\"Category\",data=df, palette = \"spring\")\n",
    "category_plot.set_xticklabels(category_plot.get_xticklabels(), rotation=90, ha=\"right\")\n",
    "category_plot \n",
    "plt.title('TOTAL apps in each category',size = 20)"
   ]
  },
  {
   "cell_type": "markdown",
   "metadata": {},
   "source": [
    "**Family,Game and Tools** are the most downloaded categories.\n"
   ]
  },
  {
   "cell_type": "code",
   "execution_count": 8,
   "metadata": {},
   "outputs": [
    {
     "data": {
      "text/plain": [
       "Text(0.5, 1.0, 'Content Rating distribution')"
      ]
     },
     "execution_count": 8,
     "metadata": {},
     "output_type": "execute_result"
    },
    {
     "data": {
      "image/png": "[encoded data removed]",
      "text/plain": [
       "<Figure size 1080x504 with 1 Axes>"
      ]
     },
     "metadata": {
      "needs_background": "light"
     },
     "output_type": "display_data"
    }
   ],
   "source": [
    "rcParams['figure.figsize'] = 15,7\n",
    "content_plot = sns.countplot(x=\"Content Rating\",data=df, palette = \"pink\")\n",
    "content_plot.set_xticklabels(content_plot.get_xticklabels(), rotation=90, ha=\"right\")\n",
    "content_plot \n",
    "plt.title('Content Rating distribution',size = 20)"
   ]
  },
  {
   "cell_type": "markdown",
   "metadata": {},
   "source": [
    "* **Everyone , Teen** constitute the majority Content Rating of all the apps.\n",
    "* **Unrated and Adults ony 18+** have count less then 10."
   ]
  },
  {
   "cell_type": "code",
   "execution_count": 9,
   "metadata": {},
   "outputs": [
    {
     "data": {
      "text/plain": [
       "Text(0.5, 1.0, 'Number of Free Apps vs Paid Apps')"
      ]
     },
     "execution_count": 9,
     "metadata": {},
     "output_type": "execute_result"
    },
    {
     "data": {
      "image/png": "[encoded data removed]",
      "text/plain": [
       "<Figure size 720x504 with 1 Axes>"
      ]
     },
     "metadata": {
      "needs_background": "light"
     },
     "output_type": "display_data"
    }
   ],
   "source": [
    "rcParams['figure.figsize'] = 10,7\n",
    "type_plot = sns.countplot(x=\"Type\", data=df, palette = \"twilight\")\n",
    "type_plot.set_xticklabels(type_plot.get_xticklabels(), rotation=90, ha=\"right\")\n",
    "type_plot \n",
    "plt.title('Number of Free Apps vs Paid Apps',size = 20)"
   ]
  },
  {
   "cell_type": "markdown",
   "metadata": {},
   "source": [
    "* The number of **FREE APPS**=7588\n",
    "* The number of **PAID APPS**=602\n",
    "\n",
    "Most of the Apps in the App Store are **Free apps**.We will visualize both the Types in detail later in the kernel."
   ]
  },
  {
   "cell_type": "code",
   "execution_count": 10,
   "metadata": {},
   "outputs": [
    {
     "data": {
      "text/plain": [
       "Text(0.5, 1.0, 'Size Range for free and paid Apps')"
      ]
     },
     "execution_count": 10,
     "metadata": {},
     "output_type": "execute_result"
    },
    {
     "data": {
      "image/png": "[encoded data removed]",
      "text/plain": [
       "<Figure size 720x504 with 1 Axes>"
      ]
     },
     "metadata": {
      "needs_background": "light"
     },
     "output_type": "display_data"
    }
   ],
   "source": [
    "rcParams['figure.figsize'] = 10,7\n",
    "type_size = sns.boxplot(x=\"Type\",y=\"Size(in MB)\", data=df, palette = \"rainbow\")\n",
    "type_size.set_xticklabels(type_size.get_xticklabels(), rotation=90, ha=\"right\")\n",
    "type_size \n",
    "plt.title('Size Range for free and paid Apps',size = 20)"
   ]
  },
  {
   "cell_type": "code",
   "execution_count": 11,
   "metadata": {},
   "outputs": [
    {
     "data": {
      "text/plain": [
       "Text(0.5, 1.0, 'Content Rating vs Price')"
      ]
     },
     "execution_count": 11,
     "metadata": {},
     "output_type": "execute_result"
    },
    {
     "data": {
      "image/png": "[encoded data removed]",
      "text/plain": [
       "<Figure size 1080x720 with 1 Axes>"
      ]
     },
     "metadata": {
      "needs_background": "light"
     },
     "output_type": "display_data"
    }
   ],
   "source": [
    "rcParams['figure.figsize'] = 15,10\n",
    "content_price = sns.stripplot(y=\"Content Rating\",x=\"Price(in $)\", data=df, palette = \"Set1\")\n",
    "content_price.set_xticklabels(content_price.get_xticklabels(), rotation=90, ha=\"right\")\n",
    "content_price \n",
    "plt.title('Content Rating vs Price',size = 20)"
   ]
  },
  {
   "cell_type": "markdown",
   "metadata": {},
   "source": [
    "* Most of the Apps with Content Rating EVERYONE lie below 50 dollars. However there are some apps that lie in the 350-400 dollars bracket!!\n",
    "* The mature rated apps(10+, 17+, 18+) are mosty free or cheap."
   ]
  },
  {
   "cell_type": "markdown",
   "metadata": {},
   "source": [
    "## PRICE DISTRIBUTION"
   ]
  },
  {
   "cell_type": "code",
   "execution_count": 12,
   "metadata": {},
   "outputs": [
    {
     "data": {
      "text/plain": [
       "Text(0.5, 1.0, 'Number of apps for every price')"
      ]
     },
     "execution_count": 12,
     "metadata": {},
     "output_type": "execute_result"
    },
    {
     "data": {
      "image/png": "[encoded data removed]",
      "text/plain": [
       "<Figure size 1080x504 with 1 Axes>"
      ]
     },
     "metadata": {
      "needs_background": "light"
     },
     "output_type": "display_data"
    }
   ],
   "source": [
    "df['Price(in $)'] = df['Price(in $)'].apply(lambda x: float(x))\n",
    "rcParams['figure.figsize'] = 15,7\n",
    "priced_apps=df[df['Price(in $)'] != 0.0]\n",
    "price_plot = sns.countplot(priced_apps['Price(in $)'], palette = \"inferno\")\n",
    "price_plot.set_xticklabels(price_plot.get_xticklabels(), rotation=90, ha=\"right\")\n",
    "price_plot \n",
    "plt.title('Number of apps for every price',size = 20)"
   ]
  },
  {
   "cell_type": "markdown",
   "metadata": {},
   "source": [
    "1. We have filtered only the priced apps from the Price column to see the price distributution of priced apps.\n",
    "2. Most paid apps are priced **3.02 Dollars** interestingly.\n",
    "3. Paid apps mostly cost **3.02 dollars, 0.99 dollars ,5.49 dollars ,2.00 dollars or 4.29 dollars**"
   ]
  },
  {
   "cell_type": "markdown",
   "metadata": {},
   "source": [
    "## INSTALLS DISTRIBUTION"
   ]
  },
  {
   "cell_type": "code",
   "execution_count": 13,
   "metadata": {},
   "outputs": [
    {
     "data": {
      "text/plain": [
       "Text(0.5, 1.0, 'Installs count distribution')"
      ]
     },
     "execution_count": 13,
     "metadata": {},
     "output_type": "execute_result"
    },
    {
     "data": {
      "image/png": "[encoded data removed]",
      "text/plain": [
       "<Figure size 1080x504 with 1 Axes>"
      ]
     },
     "metadata": {
      "needs_background": "light"
     },
     "output_type": "display_data"
    }
   ],
   "source": [
    "rcParams['figure.figsize'] = 15,7\n",
    "install_plot = sns.countplot(y=\"Installs\",data=df, palette = \"PuBu\")\n",
    "install_plot.set_xticklabels(install_plot.get_xticklabels(), rotation=90, ha=\"right\")\n",
    "install_plot \n",
    "plt.title('Installs count distribution',size = 20)"
   ]
  },
  {
   "cell_type": "markdown",
   "metadata": {},
   "source": [
    "Most of the apps in the dataframe have **1 million** installs followed by **10 million** and **100k**."
   ]
  },
  {
   "cell_type": "markdown",
   "metadata": {},
   "source": [
    "## RATINGS"
   ]
  },
  {
   "cell_type": "code",
   "execution_count": 14,
   "metadata": {},
   "outputs": [
    {
     "data": {
      "text/plain": [
       "Text(0.5, 1.0, 'Rating Distribution')"
      ]
     },
     "execution_count": 14,
     "metadata": {},
     "output_type": "execute_result"
    },
    {
     "data": {
      "image/png": "[encoded data removed]",
      "text/plain": [
       "<Figure size 1080x504 with 1 Axes>"
      ]
     },
     "metadata": {
      "needs_background": "light"
     },
     "output_type": "display_data"
    }
   ],
   "source": [
    "rcParams['figure.figsize'] = 15,7\n",
    "ratings_plot = sns.countplot(x=\"Rating\",data=df, palette = \"inferno\")\n",
    "ratings_plot.set_xticklabels(ratings_plot.get_xticklabels(), rotation=90, ha=\"right\")\n",
    "ratings_plot \n",
    "plt.title('Rating Distribution',size = 20)"
   ]
  },
  {
   "cell_type": "markdown",
   "metadata": {},
   "source": [
    "1. The Ratings distribution is **left skewed.**\n",
    "2. Most of the apps are rated **between 4.0 and 4.7.**"
   ]
  },
  {
   "cell_type": "code",
   "execution_count": 15,
   "metadata": {},
   "outputs": [
    {
     "data": {
      "image/png": "[encoded data removed]",
      "text/plain": [
       "<Figure size 1080x504 with 1 Axes>"
      ]
     },
     "metadata": {
      "needs_background": "light"
     },
     "output_type": "display_data"
    }
   ],
   "source": [
    "content_ratings = sns.violinplot(x=\"Content Rating\",y=\"Rating\",data=df, kind=\"box\", height = 10 ,palette = \"Set3\")\n",
    "content_ratings.set_xlabel(xlabel = 'Content Rating', fontsize = 9)\n",
    "content_ratings.set_ylabel(ylabel = 'Rating', fontsize = 9)\n",
    "content_ratings.set_title(label = 'Rating vs Content Rating', fontsize = 20)\n",
    "plt.show()"
   ]
  },
  {
   "cell_type": "markdown",
   "metadata": {},
   "source": [
    "# How much do Free Apps and Paid Apps differ?"
   ]
  },
  {
   "cell_type": "markdown",
   "metadata": {},
   "source": [
    "### Exploring Free Apps"
   ]
  },
  {
   "cell_type": "markdown",
   "metadata": {},
   "source": [
    "### First step is to get the most installed free apps."
   ]
  },
  {
   "cell_type": "code",
   "execution_count": 16,
   "metadata": {},
   "outputs": [
    {
     "data": {
      "text/html": [
       "<div>\n",
       "<style scoped>\n",
       "    .dataframe tbody tr th:only-of-type {\n",
       "        vertical-align: middle;\n",
       "    }\n",
       "\n",
       "    .dataframe tbody tr th {\n",
       "        vertical-align: top;\n",
       "    }\n",
       "\n",
       "    .dataframe thead th {\n",
       "        text-align: right;\n",
       "    }\n",
       "</style>\n",
       "<table border=\"1\" class=\"dataframe\">\n",
       "  <thead>\n",
       "    <tr style=\"text-align: right;\">\n",
       "      <th></th>\n",
       "      <th>App</th>\n",
       "      <th>Installs</th>\n",
       "      <th>Category</th>\n",
       "      <th>Content Rating</th>\n",
       "      <th>Price(in $)</th>\n",
       "      <th>Reviews</th>\n",
       "      <th>Genres</th>\n",
       "    </tr>\n",
       "  </thead>\n",
       "  <tbody>\n",
       "    <tr>\n",
       "      <th>152</th>\n",
       "      <td>Google Play Books</td>\n",
       "      <td>1000000000</td>\n",
       "      <td>BOOKS AND REFERENCE</td>\n",
       "      <td>Teen</td>\n",
       "      <td>0.0</td>\n",
       "      <td>1433233</td>\n",
       "      <td>Books &amp; Reference</td>\n",
       "    </tr>\n",
       "    <tr>\n",
       "      <th>3665</th>\n",
       "      <td>YouTube</td>\n",
       "      <td>1000000000</td>\n",
       "      <td>VIDEO PLAYERS</td>\n",
       "      <td>Teen</td>\n",
       "      <td>0.0</td>\n",
       "      <td>25655305</td>\n",
       "      <td>Video Players &amp; Editors</td>\n",
       "    </tr>\n",
       "    <tr>\n",
       "      <th>3454</th>\n",
       "      <td>Google Drive</td>\n",
       "      <td>1000000000</td>\n",
       "      <td>PRODUCTIVITY</td>\n",
       "      <td>Everyone</td>\n",
       "      <td>0.0</td>\n",
       "      <td>2731171</td>\n",
       "      <td>Productivity</td>\n",
       "    </tr>\n",
       "    <tr>\n",
       "      <th>3234</th>\n",
       "      <td>Google</td>\n",
       "      <td>1000000000</td>\n",
       "      <td>TOOLS</td>\n",
       "      <td>Everyone</td>\n",
       "      <td>0.0</td>\n",
       "      <td>8033493</td>\n",
       "      <td>Tools</td>\n",
       "    </tr>\n",
       "    <tr>\n",
       "      <th>3127</th>\n",
       "      <td>Google Street View</td>\n",
       "      <td>1000000000</td>\n",
       "      <td>TRAVEL AND LOCAL</td>\n",
       "      <td>Everyone</td>\n",
       "      <td>0.0</td>\n",
       "      <td>2129689</td>\n",
       "      <td>Travel &amp; Local</td>\n",
       "    </tr>\n",
       "    <tr>\n",
       "      <th>3117</th>\n",
       "      <td>Maps - Navigate &amp; Explore</td>\n",
       "      <td>1000000000</td>\n",
       "      <td>TRAVEL AND LOCAL</td>\n",
       "      <td>Everyone</td>\n",
       "      <td>0.0</td>\n",
       "      <td>9235155</td>\n",
       "      <td>Travel &amp; Local</td>\n",
       "    </tr>\n",
       "    <tr>\n",
       "      <th>2808</th>\n",
       "      <td>Google Photos</td>\n",
       "      <td>1000000000</td>\n",
       "      <td>PHOTOGRAPHY</td>\n",
       "      <td>Everyone</td>\n",
       "      <td>0.0</td>\n",
       "      <td>10858556</td>\n",
       "      <td>Photography</td>\n",
       "    </tr>\n",
       "    <tr>\n",
       "      <th>2554</th>\n",
       "      <td>Google+</td>\n",
       "      <td>1000000000</td>\n",
       "      <td>SOCIAL</td>\n",
       "      <td>Teen</td>\n",
       "      <td>0.0</td>\n",
       "      <td>4831125</td>\n",
       "      <td>Social</td>\n",
       "    </tr>\n",
       "    <tr>\n",
       "      <th>2545</th>\n",
       "      <td>Instagram</td>\n",
       "      <td>1000000000</td>\n",
       "      <td>SOCIAL</td>\n",
       "      <td>Teen</td>\n",
       "      <td>0.0</td>\n",
       "      <td>66577313</td>\n",
       "      <td>Social</td>\n",
       "    </tr>\n",
       "    <tr>\n",
       "      <th>2544</th>\n",
       "      <td>Facebook</td>\n",
       "      <td>1000000000</td>\n",
       "      <td>SOCIAL</td>\n",
       "      <td>Teen</td>\n",
       "      <td>0.0</td>\n",
       "      <td>78158306</td>\n",
       "      <td>Social</td>\n",
       "    </tr>\n",
       "    <tr>\n",
       "      <th>1654</th>\n",
       "      <td>Subway Surfers</td>\n",
       "      <td>1000000000</td>\n",
       "      <td>GAME</td>\n",
       "      <td>Everyone 10+</td>\n",
       "      <td>0.0</td>\n",
       "      <td>27722264</td>\n",
       "      <td>Arcade</td>\n",
       "    </tr>\n",
       "    <tr>\n",
       "      <th>865</th>\n",
       "      <td>Google Play Games</td>\n",
       "      <td>1000000000</td>\n",
       "      <td>ENTERTAINMENT</td>\n",
       "      <td>Teen</td>\n",
       "      <td>0.0</td>\n",
       "      <td>7165362</td>\n",
       "      <td>Entertainment</td>\n",
       "    </tr>\n",
       "    <tr>\n",
       "      <th>391</th>\n",
       "      <td>Skype - free IM &amp; video calls</td>\n",
       "      <td>1000000000</td>\n",
       "      <td>COMMUNICATION</td>\n",
       "      <td>Everyone</td>\n",
       "      <td>0.0</td>\n",
       "      <td>10484169</td>\n",
       "      <td>Communication</td>\n",
       "    </tr>\n",
       "    <tr>\n",
       "      <th>341</th>\n",
       "      <td>Hangouts</td>\n",
       "      <td>1000000000</td>\n",
       "      <td>COMMUNICATION</td>\n",
       "      <td>Everyone</td>\n",
       "      <td>0.0</td>\n",
       "      <td>3419249</td>\n",
       "      <td>Communication</td>\n",
       "    </tr>\n",
       "    <tr>\n",
       "      <th>340</th>\n",
       "      <td>Gmail</td>\n",
       "      <td>1000000000</td>\n",
       "      <td>COMMUNICATION</td>\n",
       "      <td>Everyone</td>\n",
       "      <td>0.0</td>\n",
       "      <td>4604324</td>\n",
       "      <td>Communication</td>\n",
       "    </tr>\n",
       "    <tr>\n",
       "      <th>338</th>\n",
       "      <td>Google Chrome: Fast &amp; Secure</td>\n",
       "      <td>1000000000</td>\n",
       "      <td>COMMUNICATION</td>\n",
       "      <td>Everyone</td>\n",
       "      <td>0.0</td>\n",
       "      <td>9642995</td>\n",
       "      <td>Communication</td>\n",
       "    </tr>\n",
       "    <tr>\n",
       "      <th>336</th>\n",
       "      <td>WhatsApp Messenger</td>\n",
       "      <td>1000000000</td>\n",
       "      <td>COMMUNICATION</td>\n",
       "      <td>Everyone</td>\n",
       "      <td>0.0</td>\n",
       "      <td>69119316</td>\n",
       "      <td>Communication</td>\n",
       "    </tr>\n",
       "    <tr>\n",
       "      <th>335</th>\n",
       "      <td>Messenger – Text and Video Chat for Free</td>\n",
       "      <td>1000000000</td>\n",
       "      <td>COMMUNICATION</td>\n",
       "      <td>Everyone</td>\n",
       "      <td>0.0</td>\n",
       "      <td>56642847</td>\n",
       "      <td>Communication</td>\n",
       "    </tr>\n",
       "    <tr>\n",
       "      <th>3687</th>\n",
       "      <td>Google Play Movies &amp; TV</td>\n",
       "      <td>1000000000</td>\n",
       "      <td>VIDEO PLAYERS</td>\n",
       "      <td>Teen</td>\n",
       "      <td>0.0</td>\n",
       "      <td>906384</td>\n",
       "      <td>Video Players &amp; Editors</td>\n",
       "    </tr>\n",
       "    <tr>\n",
       "      <th>3736</th>\n",
       "      <td>Google News</td>\n",
       "      <td>1000000000</td>\n",
       "      <td>NEWS AND MAGAZINES</td>\n",
       "      <td>Teen</td>\n",
       "      <td>0.0</td>\n",
       "      <td>877635</td>\n",
       "      <td>News &amp; Magazines</td>\n",
       "    </tr>\n",
       "  </tbody>\n",
       "</table>\n",
       "</div>"
      ],
      "text/plain": [
       "                                           App    Installs  \\\n",
       "152                          Google Play Books  1000000000   \n",
       "3665                                   YouTube  1000000000   \n",
       "3454                              Google Drive  1000000000   \n",
       "3234                                    Google  1000000000   \n",
       "3127                        Google Street View  1000000000   \n",
       "3117                 Maps - Navigate & Explore  1000000000   \n",
       "2808                             Google Photos  1000000000   \n",
       "2554                                   Google+  1000000000   \n",
       "2545                                 Instagram  1000000000   \n",
       "2544                                  Facebook  1000000000   \n",
       "1654                            Subway Surfers  1000000000   \n",
       "865                          Google Play Games  1000000000   \n",
       "391              Skype - free IM & video calls  1000000000   \n",
       "341                                   Hangouts  1000000000   \n",
       "340                                      Gmail  1000000000   \n",
       "338               Google Chrome: Fast & Secure  1000000000   \n",
       "336                         WhatsApp Messenger  1000000000   \n",
       "335   Messenger – Text and Video Chat for Free  1000000000   \n",
       "3687                   Google Play Movies & TV  1000000000   \n",
       "3736                               Google News  1000000000   \n",
       "\n",
       "                 Category Content Rating  Price(in $)   Reviews  \\\n",
       "152   BOOKS AND REFERENCE           Teen          0.0   1433233   \n",
       "3665        VIDEO PLAYERS           Teen          0.0  25655305   \n",
       "3454         PRODUCTIVITY       Everyone          0.0   2731171   \n",
       "3234                TOOLS       Everyone          0.0   8033493   \n",
       "3127     TRAVEL AND LOCAL       Everyone          0.0   2129689   \n",
       "3117     TRAVEL AND LOCAL       Everyone          0.0   9235155   \n",
       "2808          PHOTOGRAPHY       Everyone          0.0  10858556   \n",
       "2554               SOCIAL           Teen          0.0   4831125   \n",
       "2545               SOCIAL           Teen          0.0  66577313   \n",
       "2544               SOCIAL           Teen          0.0  78158306   \n",
       "1654                 GAME   Everyone 10+          0.0  27722264   \n",
       "865         ENTERTAINMENT           Teen          0.0   7165362   \n",
       "391         COMMUNICATION       Everyone          0.0  10484169   \n",
       "341         COMMUNICATION       Everyone          0.0   3419249   \n",
       "340         COMMUNICATION       Everyone          0.0   4604324   \n",
       "338         COMMUNICATION       Everyone          0.0   9642995   \n",
       "336         COMMUNICATION       Everyone          0.0  69119316   \n",
       "335         COMMUNICATION       Everyone          0.0  56642847   \n",
       "3687        VIDEO PLAYERS           Teen          0.0    906384   \n",
       "3736   NEWS AND MAGAZINES           Teen          0.0    877635   \n",
       "\n",
       "                       Genres  \n",
       "152         Books & Reference  \n",
       "3665  Video Players & Editors  \n",
       "3454             Productivity  \n",
       "3234                    Tools  \n",
       "3127           Travel & Local  \n",
       "3117           Travel & Local  \n",
       "2808              Photography  \n",
       "2554                   Social  \n",
       "2545                   Social  \n",
       "2544                   Social  \n",
       "1654                   Arcade  \n",
       "865             Entertainment  \n",
       "391             Communication  \n",
       "341             Communication  \n",
       "340             Communication  \n",
       "338             Communication  \n",
       "336             Communication  \n",
       "335             Communication  \n",
       "3687  Video Players & Editors  \n",
       "3736         News & Magazines  "
      ]
     },
     "execution_count": 16,
     "metadata": {},
     "output_type": "execute_result"
    }
   ],
   "source": [
    "df= df.drop_duplicates(subset='App',keep='first')\n",
    "df['Installs'] = df['Installs'].apply(lambda x: int(x))\n",
    "df[['App','Installs','Category','Content Rating','Price(in $)']].head()\n",
    "newdf=df[['App','Installs','Category','Content Rating','Price(in $)','Reviews','Genres']].groupby(['Installs'], sort = True)\n",
    "newdf=newdf.filter(lambda x: x['Installs'].mean() >= 1000000000)\n",
    "newdf=newdf.sort_values(by=['Installs'])\n",
    "newdf"
   ]
  },
  {
   "cell_type": "markdown",
   "metadata": {},
   "source": [
    "### Next step is to visualize the TOP CATEGORIES out of most installed FREE APPS in the dataframe obtained above."
   ]
  },
  {
   "cell_type": "code",
   "execution_count": 17,
   "metadata": {},
   "outputs": [
    {
     "data": {
      "text/plain": [
       "Text(0.5, 1.0, 'Top Categories for Free Apps')"
      ]
     },
     "execution_count": 17,
     "metadata": {},
     "output_type": "execute_result"
    },
    {
     "data": {
      "image/png": "[encoded data removed]",
      "text/plain": [
       "<Figure size 1080x504 with 1 Axes>"
      ]
     },
     "metadata": {
      "needs_background": "light"
     },
     "output_type": "display_data"
    }
   ],
   "source": [
    "rcParams['figure.figsize'] = 15,7\n",
    "free_categories = sns.countplot(x=\"Category\",data=newdf, palette = \"bone\")\n",
    "free_categories.set_xticklabels(free_categories.get_xticklabels(), rotation=90, ha=\"right\")\n",
    "free_categories \n",
    "plt.title('Top Categories for Free Apps',size = 20)"
   ]
  },
  {
   "cell_type": "markdown",
   "metadata": {},
   "source": [
    "### Now, lets get the TOP GENRES out of all the highest installed FREE APPS"
   ]
  },
  {
   "cell_type": "code",
   "execution_count": 18,
   "metadata": {},
   "outputs": [
    {
     "data": {
      "text/plain": [
       "Text(0.5, 1.0, 'Top Genres for Free Apps')"
      ]
     },
     "execution_count": 18,
     "metadata": {},
     "output_type": "execute_result"
    },
    {
     "data": {
      "image/png": "[encoded data removed]",
      "text/plain": [
       "<Figure size 1080x504 with 1 Axes>"
      ]
     },
     "metadata": {
      "needs_background": "light"
     },
     "output_type": "display_data"
    }
   ],
   "source": [
    "rcParams['figure.figsize'] = 15,7\n",
    "free_genres = sns.countplot(y=\"Genres\",data=newdf, palette = \"spring\")\n",
    "free_genres.set_xticklabels(free_genres.get_xticklabels(), rotation=90, ha=\"right\")\n",
    "free_genres \n",
    "plt.title('Top Genres for Free Apps',size = 20)"
   ]
  },
  {
   "cell_type": "markdown",
   "metadata": {},
   "source": [
    "## Exploring Paid Apps"
   ]
  },
  {
   "cell_type": "markdown",
   "metadata": {},
   "source": [
    "### First step is to find the highest installed paid Apps"
   ]
  },
  {
   "cell_type": "code",
   "execution_count": 19,
   "metadata": {},
   "outputs": [
    {
     "data": {
      "text/html": [
       "<div>\n",
       "<style scoped>\n",
       "    .dataframe tbody tr th:only-of-type {\n",
       "        vertical-align: middle;\n",
       "    }\n",
       "\n",
       "    .dataframe tbody tr th {\n",
       "        vertical-align: top;\n",
       "    }\n",
       "\n",
       "    .dataframe thead th {\n",
       "        text-align: right;\n",
       "    }\n",
       "</style>\n",
       "<table border=\"1\" class=\"dataframe\">\n",
       "  <thead>\n",
       "    <tr style=\"text-align: right;\">\n",
       "      <th></th>\n",
       "      <th>App</th>\n",
       "      <th>Category</th>\n",
       "      <th>Content Rating</th>\n",
       "      <th>Price(in $)</th>\n",
       "      <th>Reviews</th>\n",
       "      <th>Installs</th>\n",
       "      <th>Genres</th>\n",
       "    </tr>\n",
       "  </thead>\n",
       "  <tbody>\n",
       "    <tr>\n",
       "      <th>0</th>\n",
       "      <td>Lost Journey (Dreamsky)</td>\n",
       "      <td>GAME</td>\n",
       "      <td>Everyone</td>\n",
       "      <td>0.99</td>\n",
       "      <td>32344</td>\n",
       "      <td>1000000</td>\n",
       "      <td>Adventure</td>\n",
       "    </tr>\n",
       "    <tr>\n",
       "      <th>1</th>\n",
       "      <td>League of Stickman 2018- Ninja Arena PVP(Dream...</td>\n",
       "      <td>GAME</td>\n",
       "      <td>Teen</td>\n",
       "      <td>0.99</td>\n",
       "      <td>32496</td>\n",
       "      <td>1000000</td>\n",
       "      <td>Action</td>\n",
       "    </tr>\n",
       "    <tr>\n",
       "      <th>2</th>\n",
       "      <td>Stickman Legends: Shadow Wars</td>\n",
       "      <td>GAME</td>\n",
       "      <td>Everyone 10+</td>\n",
       "      <td>0.99</td>\n",
       "      <td>38419</td>\n",
       "      <td>1000000</td>\n",
       "      <td>Action</td>\n",
       "    </tr>\n",
       "    <tr>\n",
       "      <th>3</th>\n",
       "      <td>HD Widgets</td>\n",
       "      <td>PERSONALIZATION</td>\n",
       "      <td>Everyone</td>\n",
       "      <td>0.99</td>\n",
       "      <td>58617</td>\n",
       "      <td>1000000</td>\n",
       "      <td>Personalization</td>\n",
       "    </tr>\n",
       "    <tr>\n",
       "      <th>4</th>\n",
       "      <td>Hitman Sniper</td>\n",
       "      <td>GAME</td>\n",
       "      <td>Mature 17+</td>\n",
       "      <td>0.99</td>\n",
       "      <td>408292</td>\n",
       "      <td>10000000</td>\n",
       "      <td>Action</td>\n",
       "    </tr>\n",
       "    <tr>\n",
       "      <th>5</th>\n",
       "      <td>Cut the Rope GOLD</td>\n",
       "      <td>FAMILY</td>\n",
       "      <td>Everyone</td>\n",
       "      <td>0.99</td>\n",
       "      <td>61264</td>\n",
       "      <td>1000000</td>\n",
       "      <td>Puzzle</td>\n",
       "    </tr>\n",
       "    <tr>\n",
       "      <th>6</th>\n",
       "      <td>Fruit Ninja Classic</td>\n",
       "      <td>GAME</td>\n",
       "      <td>Everyone</td>\n",
       "      <td>0.99</td>\n",
       "      <td>85468</td>\n",
       "      <td>1000000</td>\n",
       "      <td>Arcade</td>\n",
       "    </tr>\n",
       "    <tr>\n",
       "      <th>7</th>\n",
       "      <td>Infinity Dungeon VIP</td>\n",
       "      <td>FAMILY</td>\n",
       "      <td>Everyone 10+</td>\n",
       "      <td>0.99</td>\n",
       "      <td>21804</td>\n",
       "      <td>1000000</td>\n",
       "      <td>Role Playing</td>\n",
       "    </tr>\n",
       "    <tr>\n",
       "      <th>8</th>\n",
       "      <td>Zombie Avengers:(Dreamsky)Stickman War Z</td>\n",
       "      <td>GAME</td>\n",
       "      <td>Teen</td>\n",
       "      <td>0.99</td>\n",
       "      <td>13604</td>\n",
       "      <td>1000000</td>\n",
       "      <td>Action</td>\n",
       "    </tr>\n",
       "    <tr>\n",
       "      <th>9</th>\n",
       "      <td>Where's My Water?</td>\n",
       "      <td>FAMILY</td>\n",
       "      <td>Everyone</td>\n",
       "      <td>1.99</td>\n",
       "      <td>188740</td>\n",
       "      <td>1000000</td>\n",
       "      <td>Puzzle;Brain Games</td>\n",
       "    </tr>\n",
       "    <tr>\n",
       "      <th>10</th>\n",
       "      <td>True Skate</td>\n",
       "      <td>SPORTS</td>\n",
       "      <td>Everyone</td>\n",
       "      <td>1.99</td>\n",
       "      <td>129409</td>\n",
       "      <td>1000000</td>\n",
       "      <td>Sports</td>\n",
       "    </tr>\n",
       "    <tr>\n",
       "      <th>11</th>\n",
       "      <td>Beautiful Widgets Pro</td>\n",
       "      <td>PERSONALIZATION</td>\n",
       "      <td>Everyone</td>\n",
       "      <td>2.49</td>\n",
       "      <td>97890</td>\n",
       "      <td>1000000</td>\n",
       "      <td>Personalization</td>\n",
       "    </tr>\n",
       "    <tr>\n",
       "      <th>12</th>\n",
       "      <td>Five Nights at Freddy's</td>\n",
       "      <td>GAME</td>\n",
       "      <td>Teen</td>\n",
       "      <td>2.99</td>\n",
       "      <td>100805</td>\n",
       "      <td>1000000</td>\n",
       "      <td>Action</td>\n",
       "    </tr>\n",
       "    <tr>\n",
       "      <th>13</th>\n",
       "      <td>Threema</td>\n",
       "      <td>COMMUNICATION</td>\n",
       "      <td>Everyone</td>\n",
       "      <td>2.99</td>\n",
       "      <td>51110</td>\n",
       "      <td>1000000</td>\n",
       "      <td>Communication</td>\n",
       "    </tr>\n",
       "    <tr>\n",
       "      <th>14</th>\n",
       "      <td>Bloons TD 5</td>\n",
       "      <td>FAMILY</td>\n",
       "      <td>Everyone</td>\n",
       "      <td>2.99</td>\n",
       "      <td>190086</td>\n",
       "      <td>1000000</td>\n",
       "      <td>Strategy</td>\n",
       "    </tr>\n",
       "    <tr>\n",
       "      <th>15</th>\n",
       "      <td>Tasker</td>\n",
       "      <td>TOOLS</td>\n",
       "      <td>Everyone</td>\n",
       "      <td>2.99</td>\n",
       "      <td>43045</td>\n",
       "      <td>1000000</td>\n",
       "      <td>Tools</td>\n",
       "    </tr>\n",
       "    <tr>\n",
       "      <th>16</th>\n",
       "      <td>Card Wars - Adventure Time</td>\n",
       "      <td>FAMILY</td>\n",
       "      <td>Everyone 10+</td>\n",
       "      <td>2.99</td>\n",
       "      <td>129603</td>\n",
       "      <td>1000000</td>\n",
       "      <td>Card;Action &amp; Adventure</td>\n",
       "    </tr>\n",
       "    <tr>\n",
       "      <th>17</th>\n",
       "      <td>DraStic DS Emulator</td>\n",
       "      <td>GAME</td>\n",
       "      <td>Everyone</td>\n",
       "      <td>4.99</td>\n",
       "      <td>87766</td>\n",
       "      <td>1000000</td>\n",
       "      <td>Action</td>\n",
       "    </tr>\n",
       "    <tr>\n",
       "      <th>18</th>\n",
       "      <td>Sleep as Android Unlock</td>\n",
       "      <td>LIFESTYLE</td>\n",
       "      <td>Everyone</td>\n",
       "      <td>5.99</td>\n",
       "      <td>23966</td>\n",
       "      <td>1000000</td>\n",
       "      <td>Lifestyle</td>\n",
       "    </tr>\n",
       "    <tr>\n",
       "      <th>19</th>\n",
       "      <td>Facetune - For Free</td>\n",
       "      <td>PHOTOGRAPHY</td>\n",
       "      <td>Everyone</td>\n",
       "      <td>5.99</td>\n",
       "      <td>49553</td>\n",
       "      <td>1000000</td>\n",
       "      <td>Photography</td>\n",
       "    </tr>\n",
       "    <tr>\n",
       "      <th>20</th>\n",
       "      <td>Grand Theft Auto: San Andreas</td>\n",
       "      <td>GAME</td>\n",
       "      <td>Mature 17+</td>\n",
       "      <td>6.99</td>\n",
       "      <td>348962</td>\n",
       "      <td>1000000</td>\n",
       "      <td>Action</td>\n",
       "    </tr>\n",
       "    <tr>\n",
       "      <th>21</th>\n",
       "      <td>Minecraft</td>\n",
       "      <td>FAMILY</td>\n",
       "      <td>Everyone 10+</td>\n",
       "      <td>6.99</td>\n",
       "      <td>2376564</td>\n",
       "      <td>10000000</td>\n",
       "      <td>Arcade;Action &amp; Adventure</td>\n",
       "    </tr>\n",
       "  </tbody>\n",
       "</table>\n",
       "</div>"
      ],
      "text/plain": [
       "                                                  App         Category  \\\n",
       "0                             Lost Journey (Dreamsky)             GAME   \n",
       "1   League of Stickman 2018- Ninja Arena PVP(Dream...             GAME   \n",
       "2                       Stickman Legends: Shadow Wars             GAME   \n",
       "3                                          HD Widgets  PERSONALIZATION   \n",
       "4                                       Hitman Sniper             GAME   \n",
       "5                                   Cut the Rope GOLD           FAMILY   \n",
       "6                                 Fruit Ninja Classic             GAME   \n",
       "7                                Infinity Dungeon VIP           FAMILY   \n",
       "8            Zombie Avengers:(Dreamsky)Stickman War Z             GAME   \n",
       "9                                   Where's My Water?           FAMILY   \n",
       "10                                         True Skate           SPORTS   \n",
       "11                              Beautiful Widgets Pro  PERSONALIZATION   \n",
       "12                            Five Nights at Freddy's             GAME   \n",
       "13                                            Threema    COMMUNICATION   \n",
       "14                                        Bloons TD 5           FAMILY   \n",
       "15                                             Tasker            TOOLS   \n",
       "16                         Card Wars - Adventure Time           FAMILY   \n",
       "17                                DraStic DS Emulator             GAME   \n",
       "18                            Sleep as Android Unlock        LIFESTYLE   \n",
       "19                                Facetune - For Free      PHOTOGRAPHY   \n",
       "20                      Grand Theft Auto: San Andreas             GAME   \n",
       "21                                          Minecraft           FAMILY   \n",
       "\n",
       "   Content Rating  Price(in $)  Reviews  Installs                     Genres  \n",
       "0        Everyone         0.99    32344   1000000                  Adventure  \n",
       "1            Teen         0.99    32496   1000000                     Action  \n",
       "2    Everyone 10+         0.99    38419   1000000                     Action  \n",
       "3        Everyone         0.99    58617   1000000            Personalization  \n",
       "4      Mature 17+         0.99   408292  10000000                     Action  \n",
       "5        Everyone         0.99    61264   1000000                     Puzzle  \n",
       "6        Everyone         0.99    85468   1000000                     Arcade  \n",
       "7    Everyone 10+         0.99    21804   1000000               Role Playing  \n",
       "8            Teen         0.99    13604   1000000                     Action  \n",
       "9        Everyone         1.99   188740   1000000         Puzzle;Brain Games  \n",
       "10       Everyone         1.99   129409   1000000                     Sports  \n",
       "11       Everyone         2.49    97890   1000000            Personalization  \n",
       "12           Teen         2.99   100805   1000000                     Action  \n",
       "13       Everyone         2.99    51110   1000000              Communication  \n",
       "14       Everyone         2.99   190086   1000000                   Strategy  \n",
       "15       Everyone         2.99    43045   1000000                      Tools  \n",
       "16   Everyone 10+         2.99   129603   1000000    Card;Action & Adventure  \n",
       "17       Everyone         4.99    87766   1000000                     Action  \n",
       "18       Everyone         5.99    23966   1000000                  Lifestyle  \n",
       "19       Everyone         5.99    49553   1000000                Photography  \n",
       "20     Mature 17+         6.99   348962   1000000                     Action  \n",
       "21   Everyone 10+         6.99  2376564  10000000  Arcade;Action & Adventure  "
      ]
     },
     "execution_count": 19,
     "metadata": {},
     "output_type": "execute_result"
    }
   ],
   "source": [
    "new=df[['App','Category','Content Rating','Price(in $)','Reviews']].groupby(['Price(in $)'], sort = True)\n",
    "new=new.filter(lambda x: x['Price(in $)'].mean() != 0)\n",
    "new=new.sort_values(by=['Price(in $)'])\n",
    "new\n",
    "newdf2=df[['App','Installs','Genres']].groupby(['Installs'], sort = True)\n",
    "newdf2=newdf2.filter(lambda x: x['Installs'].mean() >= 1000000)\n",
    "newdf2=newdf2.sort_values(by=['Installs'])\n",
    "newdf2\n",
    "\n",
    "s1 = pd.merge(new, newdf2, how='inner', on=['App'])\n",
    "s1"
   ]
  },
  {
   "cell_type": "markdown",
   "metadata": {},
   "source": [
    "### Next step is to visualize the TOP CATEGORIES out of most installed PAID APPS in the dataframe obtained above."
   ]
  },
  {
   "cell_type": "code",
   "execution_count": 20,
   "metadata": {},
   "outputs": [
    {
     "data": {
      "text/plain": [
       "Text(0.5, 1.0, 'Top Categories for PAID APPS')"
      ]
     },
     "execution_count": 20,
     "metadata": {},
     "output_type": "execute_result"
    },
    {
     "data": {
      "image/png": "[encoded data removed]",
      "text/plain": [
       "<Figure size 1080x504 with 1 Axes>"
      ]
     },
     "metadata": {
      "needs_background": "light"
     },
     "output_type": "display_data"
    }
   ],
   "source": [
    "rcParams['figure.figsize'] = 15,7\n",
    "paid_categories = sns.countplot(x=\"Category\",data=s1, palette = \"bone\")\n",
    "paid_categories.set_xticklabels(paid_categories.get_xticklabels(), rotation=90, ha=\"right\")\n",
    "paid_categories \n",
    "plt.title('Top Categories for PAID APPS',size = 20)"
   ]
  },
  {
   "cell_type": "markdown",
   "metadata": {},
   "source": [
    "### Now, lets get the TOP GENRES out of all the highest installed PAID APPS"
   ]
  },
  {
   "cell_type": "code",
   "execution_count": 21,
   "metadata": {},
   "outputs": [
    {
     "data": {
      "text/plain": [
       "Text(0.5, 1.0, 'Top Genres for PAID APPS')"
      ]
     },
     "execution_count": 21,
     "metadata": {},
     "output_type": "execute_result"
    },
    {
     "data": {
      "image/png": "[encoded data removed]",
      "text/plain": [
       "<Figure size 1080x504 with 1 Axes>"
      ]
     },
     "metadata": {
      "needs_background": "light"
     },
     "output_type": "display_data"
    }
   ],
   "source": [
    "rcParams['figure.figsize'] = 15,7\n",
    "paid_genres = sns.countplot(y=\"Genres\",data=s1, palette = \"spring\")\n",
    "paid_genres.set_xticklabels(paid_genres.get_xticklabels(), rotation=90, ha=\"right\")\n",
    "paid_genres \n",
    "plt.title('Top Genres for PAID APPS',size = 20)"
   ]
  },
  {
   "cell_type": "markdown",
   "metadata": {},
   "source": [
    "## Summary for Free vs Paid Apps:-"
   ]
  },
  {
   "cell_type": "markdown",
   "metadata": {},
   "source": [
    "1. **People tend to spend their money on games and Personalization but when it comes to Social Networking and Communication they tend to install the free Apps on the Android Store**.\n",
    "1.  The **2 most installed Paid Apps** are both **games(Minecraft and Hitman:Sniper)**\n",
    "1.  The majority of most installed **free** Apps lie in the **Communication** Category.\n",
    "1.  The majority of most installed **Paid** Apps lie in the **Gaming** Category.\n",
    "1. The **Content Rating** for Free apps is mostly for Everyone or Teen , but for Paid Apps 6 out of 22 apps are not for users under 10 years of age."
   ]
  },
  {
   "cell_type": "markdown",
   "metadata": {},
   "source": [
    "# Is there a relation between the Android Update Dates of all the Apps?"
   ]
  },
  {
   "cell_type": "code",
   "execution_count": 22,
   "metadata": {},
   "outputs": [
    {
     "data": {
      "text/plain": [
       "Text(0.5, 1.0, 'Time series plot of Last Updates')"
      ]
     },
     "execution_count": 22,
     "metadata": {},
     "output_type": "execute_result"
    },
    {
     "data": {
      "image/png": "[encoded data removed]",
      "text/plain": [
       "<Figure size 1080x504 with 1 Axes>"
      ]
     },
     "metadata": {
      "needs_background": "light"
     },
     "output_type": "display_data"
    }
   ],
   "source": [
    "df['new'] = pd.to_datetime(df['Last Updated'])\n",
    "df.drop(labels = ['Last Updated'], axis = 1, inplace = True)\n",
    "df.rename(columns={'new': 'Last Updated'}, inplace=True)\n",
    "freq= pd.Series()\n",
    "freq=df['Last Updated'].value_counts()\n",
    "newfreq=freq[freq>50]\n",
    "newfreq.plot()\n",
    "plt.xlabel(\"Dates\")\n",
    "plt.ylabel(\"Number of updates\")\n",
    "plt.title(\"Time series plot of Last Updates\")"
   ]
  },
  {
   "cell_type": "markdown",
   "metadata": {},
   "source": [
    "* I have filtered and selected the dates on which most number of Apps were last updated.\n",
    "* The above plot shows that between **July 15,2018** and **August 1,2018** majority of the Apps were updated as is clear by the upward trend in the graph above."
   ]
  },
  {
   "cell_type": "markdown",
   "metadata": {},
   "source": [
    "# Which are the best Apps on App Store?"
   ]
  },
  {
   "cell_type": "markdown",
   "metadata": {},
   "source": [
    "### The criteria I have selected are:\n",
    "1. High **rating**\n",
    "1. Large number of **reviews**\n",
    "1. Large number of **installs**\n",
    "\n",
    "\n",
    "* I haven't taken **Price** as a parameter for this selection because I believe an expensive app can be perceived to be better than a similar free app if it has high rating,reviews and installs.\n",
    "* I think features like **Content Rating, Android Version, Last Update time, Size of the App, Current version of the App** are irrelevant in this selection as well for obvious reasons."
   ]
  },
  {
   "cell_type": "code",
   "execution_count": 23,
   "metadata": {},
   "outputs": [
    {
     "data": {
      "text/html": [
       "<div>\n",
       "<style scoped>\n",
       "    .dataframe tbody tr th:only-of-type {\n",
       "        vertical-align: middle;\n",
       "    }\n",
       "\n",
       "    .dataframe tbody tr th {\n",
       "        vertical-align: top;\n",
       "    }\n",
       "\n",
       "    .dataframe thead th {\n",
       "        text-align: right;\n",
       "    }\n",
       "</style>\n",
       "<table border=\"1\" class=\"dataframe\">\n",
       "  <thead>\n",
       "    <tr style=\"text-align: right;\">\n",
       "      <th></th>\n",
       "      <th>App</th>\n",
       "      <th>Reviews</th>\n",
       "      <th>Rating</th>\n",
       "      <th>Category</th>\n",
       "      <th>Content Rating</th>\n",
       "      <th>Installs</th>\n",
       "    </tr>\n",
       "  </thead>\n",
       "  <tbody>\n",
       "    <tr>\n",
       "      <th>0</th>\n",
       "      <td>TRANSFORMERS: Earth Wars</td>\n",
       "      <td>256219</td>\n",
       "      <td>4.5</td>\n",
       "      <td>FAMILY</td>\n",
       "      <td>Everyone</td>\n",
       "      <td>10000000</td>\n",
       "    </tr>\n",
       "    <tr>\n",
       "      <th>1</th>\n",
       "      <td>Pocket</td>\n",
       "      <td>256680</td>\n",
       "      <td>4.5</td>\n",
       "      <td>NEWS AND MAGAZINES</td>\n",
       "      <td>Everyone</td>\n",
       "      <td>10000000</td>\n",
       "    </tr>\n",
       "    <tr>\n",
       "      <th>2</th>\n",
       "      <td>Video Player All Format</td>\n",
       "      <td>259003</td>\n",
       "      <td>4.8</td>\n",
       "      <td>VIDEO PLAYERS</td>\n",
       "      <td>Everyone</td>\n",
       "      <td>10000000</td>\n",
       "    </tr>\n",
       "    <tr>\n",
       "      <th>3</th>\n",
       "      <td>LightX Photo Editor &amp; Photo Effects</td>\n",
       "      <td>259450</td>\n",
       "      <td>4.7</td>\n",
       "      <td>PHOTOGRAPHY</td>\n",
       "      <td>Everyone</td>\n",
       "      <td>10000000</td>\n",
       "    </tr>\n",
       "    <tr>\n",
       "      <th>4</th>\n",
       "      <td>Hotels.com: Book Hotel Rooms &amp; Find Vacation D...</td>\n",
       "      <td>260121</td>\n",
       "      <td>4.5</td>\n",
       "      <td>TRAVEL AND LOCAL</td>\n",
       "      <td>Everyone</td>\n",
       "      <td>10000000</td>\n",
       "    </tr>\n",
       "    <tr>\n",
       "      <th>5</th>\n",
       "      <td>Geometry Dash SubZero</td>\n",
       "      <td>260527</td>\n",
       "      <td>4.6</td>\n",
       "      <td>GAME</td>\n",
       "      <td>Everyone</td>\n",
       "      <td>10000000</td>\n",
       "    </tr>\n",
       "    <tr>\n",
       "      <th>6</th>\n",
       "      <td>Rush</td>\n",
       "      <td>260651</td>\n",
       "      <td>4.6</td>\n",
       "      <td>GAME</td>\n",
       "      <td>Everyone</td>\n",
       "      <td>10000000</td>\n",
       "    </tr>\n",
       "    <tr>\n",
       "      <th>7</th>\n",
       "      <td>CM Security Lite - Antivirus</td>\n",
       "      <td>262076</td>\n",
       "      <td>4.6</td>\n",
       "      <td>TOOLS</td>\n",
       "      <td>Everyone</td>\n",
       "      <td>10000000</td>\n",
       "    </tr>\n",
       "    <tr>\n",
       "      <th>8</th>\n",
       "      <td>Build a Bridge!</td>\n",
       "      <td>263454</td>\n",
       "      <td>4.6</td>\n",
       "      <td>FAMILY</td>\n",
       "      <td>Everyone</td>\n",
       "      <td>10000000</td>\n",
       "    </tr>\n",
       "    <tr>\n",
       "      <th>9</th>\n",
       "      <td>Agoda – Hotel Booking Deals</td>\n",
       "      <td>263525</td>\n",
       "      <td>4.6</td>\n",
       "      <td>TRAVEL AND LOCAL</td>\n",
       "      <td>Everyone</td>\n",
       "      <td>10000000</td>\n",
       "    </tr>\n",
       "    <tr>\n",
       "      <th>10</th>\n",
       "      <td>Dictionary</td>\n",
       "      <td>264260</td>\n",
       "      <td>4.5</td>\n",
       "      <td>BOOKS AND REFERENCE</td>\n",
       "      <td>Everyone</td>\n",
       "      <td>10000000</td>\n",
       "    </tr>\n",
       "    <tr>\n",
       "      <th>11</th>\n",
       "      <td>Heart of Vegas™ Slots – Free Slot Casino Games</td>\n",
       "      <td>264282</td>\n",
       "      <td>4.5</td>\n",
       "      <td>GAME</td>\n",
       "      <td>Teen</td>\n",
       "      <td>10000000</td>\n",
       "    </tr>\n",
       "    <tr>\n",
       "      <th>12</th>\n",
       "      <td>Slot Machines by IGG</td>\n",
       "      <td>267229</td>\n",
       "      <td>4.6</td>\n",
       "      <td>GAME</td>\n",
       "      <td>Teen</td>\n",
       "      <td>10000000</td>\n",
       "    </tr>\n",
       "    <tr>\n",
       "      <th>13</th>\n",
       "      <td>Background Eraser</td>\n",
       "      <td>267378</td>\n",
       "      <td>4.5</td>\n",
       "      <td>PHOTOGRAPHY</td>\n",
       "      <td>Everyone</td>\n",
       "      <td>10000000</td>\n",
       "    </tr>\n",
       "    <tr>\n",
       "      <th>14</th>\n",
       "      <td>No. Color - Color by Number, Number Coloring</td>\n",
       "      <td>269194</td>\n",
       "      <td>4.8</td>\n",
       "      <td>FAMILY</td>\n",
       "      <td>Everyone</td>\n",
       "      <td>10000000</td>\n",
       "    </tr>\n",
       "    <tr>\n",
       "      <th>15</th>\n",
       "      <td>Six Pack in 30 Days - Abs Workout</td>\n",
       "      <td>272337</td>\n",
       "      <td>4.9</td>\n",
       "      <td>HEALTH AND FITNESS</td>\n",
       "      <td>Everyone</td>\n",
       "      <td>10000000</td>\n",
       "    </tr>\n",
       "    <tr>\n",
       "      <th>16</th>\n",
       "      <td>Wallpapers HD, 4K Backgrounds</td>\n",
       "      <td>273994</td>\n",
       "      <td>4.7</td>\n",
       "      <td>PERSONALIZATION</td>\n",
       "      <td>Everyone</td>\n",
       "      <td>10000000</td>\n",
       "    </tr>\n",
       "    <tr>\n",
       "      <th>17</th>\n",
       "      <td>Jewels Legend - Match 3 Puzzle</td>\n",
       "      <td>280098</td>\n",
       "      <td>4.6</td>\n",
       "      <td>GAME</td>\n",
       "      <td>Everyone</td>\n",
       "      <td>10000000</td>\n",
       "    </tr>\n",
       "    <tr>\n",
       "      <th>18</th>\n",
       "      <td>Al-Moazin Lite (Prayer Times)</td>\n",
       "      <td>284670</td>\n",
       "      <td>4.6</td>\n",
       "      <td>LIFESTYLE</td>\n",
       "      <td>Everyone</td>\n",
       "      <td>10000000</td>\n",
       "    </tr>\n",
       "    <tr>\n",
       "      <th>19</th>\n",
       "      <td>Stocard - Rewards Cards Wallet</td>\n",
       "      <td>284725</td>\n",
       "      <td>4.6</td>\n",
       "      <td>SHOPPING</td>\n",
       "      <td>Everyone</td>\n",
       "      <td>10000000</td>\n",
       "    </tr>\n",
       "    <tr>\n",
       "      <th>20</th>\n",
       "      <td>Photo Collage - Layout Editor</td>\n",
       "      <td>285788</td>\n",
       "      <td>4.5</td>\n",
       "      <td>PHOTOGRAPHY</td>\n",
       "      <td>Everyone</td>\n",
       "      <td>10000000</td>\n",
       "    </tr>\n",
       "    <tr>\n",
       "      <th>21</th>\n",
       "      <td>Tiny Scanner - PDF Scanner App</td>\n",
       "      <td>286897</td>\n",
       "      <td>4.7</td>\n",
       "      <td>BUSINESS</td>\n",
       "      <td>Everyone</td>\n",
       "      <td>10000000</td>\n",
       "    </tr>\n",
       "    <tr>\n",
       "      <th>22</th>\n",
       "      <td>Calculator - unit converter</td>\n",
       "      <td>287250</td>\n",
       "      <td>4.7</td>\n",
       "      <td>PRODUCTIVITY</td>\n",
       "      <td>Everyone</td>\n",
       "      <td>50000000</td>\n",
       "    </tr>\n",
       "    <tr>\n",
       "      <th>23</th>\n",
       "      <td>TRANSFORMERS: Forged to Fight</td>\n",
       "      <td>291941</td>\n",
       "      <td>4.6</td>\n",
       "      <td>GAME</td>\n",
       "      <td>Everyone 10+</td>\n",
       "      <td>10000000</td>\n",
       "    </tr>\n",
       "    <tr>\n",
       "      <th>24</th>\n",
       "      <td>Soul Knight</td>\n",
       "      <td>292164</td>\n",
       "      <td>4.7</td>\n",
       "      <td>GAME</td>\n",
       "      <td>Everyone 10+</td>\n",
       "      <td>10000000</td>\n",
       "    </tr>\n",
       "    <tr>\n",
       "      <th>25</th>\n",
       "      <td>Word Search</td>\n",
       "      <td>295241</td>\n",
       "      <td>4.7</td>\n",
       "      <td>GAME</td>\n",
       "      <td>Everyone</td>\n",
       "      <td>10000000</td>\n",
       "    </tr>\n",
       "    <tr>\n",
       "      <th>26</th>\n",
       "      <td>CPU-Z</td>\n",
       "      <td>295430</td>\n",
       "      <td>4.5</td>\n",
       "      <td>TOOLS</td>\n",
       "      <td>Everyone</td>\n",
       "      <td>10000000</td>\n",
       "    </tr>\n",
       "    <tr>\n",
       "      <th>27</th>\n",
       "      <td>New 2018 Keyboard</td>\n",
       "      <td>298321</td>\n",
       "      <td>4.6</td>\n",
       "      <td>PERSONALIZATION</td>\n",
       "      <td>Everyone</td>\n",
       "      <td>10000000</td>\n",
       "    </tr>\n",
       "    <tr>\n",
       "      <th>28</th>\n",
       "      <td>Any.do: To-do list, Calendar, Reminders &amp; Planner</td>\n",
       "      <td>298843</td>\n",
       "      <td>4.5</td>\n",
       "      <td>PRODUCTIVITY</td>\n",
       "      <td>Everyone</td>\n",
       "      <td>10000000</td>\n",
       "    </tr>\n",
       "    <tr>\n",
       "      <th>29</th>\n",
       "      <td>Standoff 2</td>\n",
       "      <td>299046</td>\n",
       "      <td>4.5</td>\n",
       "      <td>GAME</td>\n",
       "      <td>Mature 17+</td>\n",
       "      <td>10000000</td>\n",
       "    </tr>\n",
       "    <tr>\n",
       "      <th>...</th>\n",
       "      <td>...</td>\n",
       "      <td>...</td>\n",
       "      <td>...</td>\n",
       "      <td>...</td>\n",
       "      <td>...</td>\n",
       "      <td>...</td>\n",
       "    </tr>\n",
       "    <tr>\n",
       "      <th>329</th>\n",
       "      <td>Waze - GPS, Maps, Traffic Alerts &amp; Live Naviga...</td>\n",
       "      <td>7232629</td>\n",
       "      <td>4.6</td>\n",
       "      <td>MAPS AND NAVIGATION</td>\n",
       "      <td>Everyone</td>\n",
       "      <td>100000000</td>\n",
       "    </tr>\n",
       "    <tr>\n",
       "      <th>330</th>\n",
       "      <td>GO Launcher - 3D parallax Themes &amp; HD Wallpapers</td>\n",
       "      <td>7464996</td>\n",
       "      <td>4.5</td>\n",
       "      <td>PERSONALIZATION</td>\n",
       "      <td>Everyone</td>\n",
       "      <td>100000000</td>\n",
       "    </tr>\n",
       "    <tr>\n",
       "      <th>331</th>\n",
       "      <td>PhotoGrid: Video &amp; Pic Collage Maker, Photo Ed...</td>\n",
       "      <td>7529865</td>\n",
       "      <td>4.6</td>\n",
       "      <td>PHOTOGRAPHY</td>\n",
       "      <td>Everyone</td>\n",
       "      <td>100000000</td>\n",
       "    </tr>\n",
       "    <tr>\n",
       "      <th>332</th>\n",
       "      <td>PicsArt Photo Studio: Collage Maker &amp; Pic Editor</td>\n",
       "      <td>7594559</td>\n",
       "      <td>4.5</td>\n",
       "      <td>PHOTOGRAPHY</td>\n",
       "      <td>Teen</td>\n",
       "      <td>100000000</td>\n",
       "    </tr>\n",
       "    <tr>\n",
       "      <th>333</th>\n",
       "      <td>Sniper 3D Gun Shooter: Free Shooting Games - FPS</td>\n",
       "      <td>7671249</td>\n",
       "      <td>4.6</td>\n",
       "      <td>GAME</td>\n",
       "      <td>Mature 17+</td>\n",
       "      <td>100000000</td>\n",
       "    </tr>\n",
       "    <tr>\n",
       "      <th>334</th>\n",
       "      <td>SHAREit - Transfer &amp; Share</td>\n",
       "      <td>7790693</td>\n",
       "      <td>4.6</td>\n",
       "      <td>TOOLS</td>\n",
       "      <td>Everyone</td>\n",
       "      <td>500000000</td>\n",
       "    </tr>\n",
       "    <tr>\n",
       "      <th>335</th>\n",
       "      <td>Truecaller: Caller ID, SMS spam blocking &amp; Dialer</td>\n",
       "      <td>7820209</td>\n",
       "      <td>4.5</td>\n",
       "      <td>COMMUNICATION</td>\n",
       "      <td>Everyone</td>\n",
       "      <td>100000000</td>\n",
       "    </tr>\n",
       "    <tr>\n",
       "      <th>336</th>\n",
       "      <td>Piano Tiles 2™</td>\n",
       "      <td>8118880</td>\n",
       "      <td>4.7</td>\n",
       "      <td>GAME</td>\n",
       "      <td>Everyone</td>\n",
       "      <td>100000000</td>\n",
       "    </tr>\n",
       "    <tr>\n",
       "      <th>337</th>\n",
       "      <td>Battery Doctor-Battery Life Saver &amp; Battery Co...</td>\n",
       "      <td>8190074</td>\n",
       "      <td>4.5</td>\n",
       "      <td>TOOLS</td>\n",
       "      <td>Everyone</td>\n",
       "      <td>100000000</td>\n",
       "    </tr>\n",
       "    <tr>\n",
       "      <th>338</th>\n",
       "      <td>Asphalt 8: Airborne</td>\n",
       "      <td>8389714</td>\n",
       "      <td>4.5</td>\n",
       "      <td>GAME</td>\n",
       "      <td>Teen</td>\n",
       "      <td>100000000</td>\n",
       "    </tr>\n",
       "    <tr>\n",
       "      <th>339</th>\n",
       "      <td>VivaVideo - Video Editor &amp; Photo Movie</td>\n",
       "      <td>9879473</td>\n",
       "      <td>4.6</td>\n",
       "      <td>VIDEO PLAYERS</td>\n",
       "      <td>Teen</td>\n",
       "      <td>100000000</td>\n",
       "    </tr>\n",
       "    <tr>\n",
       "      <th>340</th>\n",
       "      <td>My Talking Angela</td>\n",
       "      <td>9881829</td>\n",
       "      <td>4.5</td>\n",
       "      <td>GAME</td>\n",
       "      <td>Everyone</td>\n",
       "      <td>100000000</td>\n",
       "    </tr>\n",
       "    <tr>\n",
       "      <th>341</th>\n",
       "      <td>Dream League Soccer 2018</td>\n",
       "      <td>9882639</td>\n",
       "      <td>4.6</td>\n",
       "      <td>GAME</td>\n",
       "      <td>Everyone</td>\n",
       "      <td>100000000</td>\n",
       "    </tr>\n",
       "    <tr>\n",
       "      <th>342</th>\n",
       "      <td>Hay Day</td>\n",
       "      <td>10053186</td>\n",
       "      <td>4.5</td>\n",
       "      <td>FAMILY</td>\n",
       "      <td>Everyone</td>\n",
       "      <td>100000000</td>\n",
       "    </tr>\n",
       "    <tr>\n",
       "      <th>343</th>\n",
       "      <td>Yes day</td>\n",
       "      <td>10055521</td>\n",
       "      <td>4.5</td>\n",
       "      <td>GAME</td>\n",
       "      <td>Everyone</td>\n",
       "      <td>100000000</td>\n",
       "    </tr>\n",
       "    <tr>\n",
       "      <th>344</th>\n",
       "      <td>Minion Rush: Despicable Me Official Game</td>\n",
       "      <td>10216538</td>\n",
       "      <td>4.5</td>\n",
       "      <td>GAME</td>\n",
       "      <td>Everyone 10+</td>\n",
       "      <td>100000000</td>\n",
       "    </tr>\n",
       "    <tr>\n",
       "      <th>345</th>\n",
       "      <td>Google Photos</td>\n",
       "      <td>10858556</td>\n",
       "      <td>4.5</td>\n",
       "      <td>PHOTOGRAPHY</td>\n",
       "      <td>Everyone</td>\n",
       "      <td>1000000000</td>\n",
       "    </tr>\n",
       "    <tr>\n",
       "      <th>346</th>\n",
       "      <td>Shadow Fight 2</td>\n",
       "      <td>10979062</td>\n",
       "      <td>4.6</td>\n",
       "      <td>GAME</td>\n",
       "      <td>Everyone 10+</td>\n",
       "      <td>100000000</td>\n",
       "    </tr>\n",
       "    <tr>\n",
       "      <th>347</th>\n",
       "      <td>Cache Cleaner-DU Speed Booster (booster &amp; clea...</td>\n",
       "      <td>12759663</td>\n",
       "      <td>4.5</td>\n",
       "      <td>TOOLS</td>\n",
       "      <td>Everyone</td>\n",
       "      <td>100000000</td>\n",
       "    </tr>\n",
       "    <tr>\n",
       "      <th>348</th>\n",
       "      <td>DU Battery Saver - Battery Charger &amp; Battery Life</td>\n",
       "      <td>13479633</td>\n",
       "      <td>4.5</td>\n",
       "      <td>TOOLS</td>\n",
       "      <td>Everyone</td>\n",
       "      <td>100000000</td>\n",
       "    </tr>\n",
       "    <tr>\n",
       "      <th>349</th>\n",
       "      <td>8 Ball Pool</td>\n",
       "      <td>14198297</td>\n",
       "      <td>4.5</td>\n",
       "      <td>GAME</td>\n",
       "      <td>Everyone</td>\n",
       "      <td>100000000</td>\n",
       "    </tr>\n",
       "    <tr>\n",
       "      <th>350</th>\n",
       "      <td>My Talking Tom</td>\n",
       "      <td>14891223</td>\n",
       "      <td>4.5</td>\n",
       "      <td>GAME</td>\n",
       "      <td>Everyone</td>\n",
       "      <td>500000000</td>\n",
       "    </tr>\n",
       "    <tr>\n",
       "      <th>351</th>\n",
       "      <td>360 Security - Free Antivirus, Booster, Cleaner</td>\n",
       "      <td>16771865</td>\n",
       "      <td>4.6</td>\n",
       "      <td>TOOLS</td>\n",
       "      <td>Everyone</td>\n",
       "      <td>100000000</td>\n",
       "    </tr>\n",
       "    <tr>\n",
       "      <th>352</th>\n",
       "      <td>UC Browser - Fast Download Private &amp; Secure</td>\n",
       "      <td>17712922</td>\n",
       "      <td>4.5</td>\n",
       "      <td>COMMUNICATION</td>\n",
       "      <td>Teen</td>\n",
       "      <td>500000000</td>\n",
       "    </tr>\n",
       "    <tr>\n",
       "      <th>353</th>\n",
       "      <td>Clash Royale</td>\n",
       "      <td>23133508</td>\n",
       "      <td>4.6</td>\n",
       "      <td>GAME</td>\n",
       "      <td>Everyone 10+</td>\n",
       "      <td>100000000</td>\n",
       "    </tr>\n",
       "    <tr>\n",
       "      <th>354</th>\n",
       "      <td>Security Master - Antivirus, VPN, AppLock, Boo...</td>\n",
       "      <td>24900999</td>\n",
       "      <td>4.7</td>\n",
       "      <td>TOOLS</td>\n",
       "      <td>Everyone</td>\n",
       "      <td>500000000</td>\n",
       "    </tr>\n",
       "    <tr>\n",
       "      <th>355</th>\n",
       "      <td>Subway Surfers</td>\n",
       "      <td>27722264</td>\n",
       "      <td>4.5</td>\n",
       "      <td>GAME</td>\n",
       "      <td>Everyone 10+</td>\n",
       "      <td>1000000000</td>\n",
       "    </tr>\n",
       "    <tr>\n",
       "      <th>356</th>\n",
       "      <td>Clean Master- Space Cleaner &amp; Antivirus</td>\n",
       "      <td>42916526</td>\n",
       "      <td>4.7</td>\n",
       "      <td>TOOLS</td>\n",
       "      <td>Everyone</td>\n",
       "      <td>500000000</td>\n",
       "    </tr>\n",
       "    <tr>\n",
       "      <th>357</th>\n",
       "      <td>Clash of Clans</td>\n",
       "      <td>44891723</td>\n",
       "      <td>4.6</td>\n",
       "      <td>GAME</td>\n",
       "      <td>Everyone 10+</td>\n",
       "      <td>100000000</td>\n",
       "    </tr>\n",
       "    <tr>\n",
       "      <th>358</th>\n",
       "      <td>Instagram</td>\n",
       "      <td>66577313</td>\n",
       "      <td>4.5</td>\n",
       "      <td>SOCIAL</td>\n",
       "      <td>Teen</td>\n",
       "      <td>1000000000</td>\n",
       "    </tr>\n",
       "  </tbody>\n",
       "</table>\n",
       "<p>359 rows × 6 columns</p>\n",
       "</div>"
      ],
      "text/plain": [
       "                                                   App   Reviews  Rating  \\\n",
       "0                             TRANSFORMERS: Earth Wars    256219     4.5   \n",
       "1                                               Pocket    256680     4.5   \n",
       "2                              Video Player All Format    259003     4.8   \n",
       "3                  LightX Photo Editor & Photo Effects    259450     4.7   \n",
       "4    Hotels.com: Book Hotel Rooms & Find Vacation D...    260121     4.5   \n",
       "5                                Geometry Dash SubZero    260527     4.6   \n",
       "6                                                 Rush    260651     4.6   \n",
       "7                         CM Security Lite - Antivirus    262076     4.6   \n",
       "8                                      Build a Bridge!    263454     4.6   \n",
       "9                          Agoda – Hotel Booking Deals    263525     4.6   \n",
       "10                                          Dictionary    264260     4.5   \n",
       "11      Heart of Vegas™ Slots – Free Slot Casino Games    264282     4.5   \n",
       "12                                Slot Machines by IGG    267229     4.6   \n",
       "13                                   Background Eraser    267378     4.5   \n",
       "14        No. Color - Color by Number, Number Coloring    269194     4.8   \n",
       "15                   Six Pack in 30 Days - Abs Workout    272337     4.9   \n",
       "16                       Wallpapers HD, 4K Backgrounds    273994     4.7   \n",
       "17                      Jewels Legend - Match 3 Puzzle    280098     4.6   \n",
       "18                       Al-Moazin Lite (Prayer Times)    284670     4.6   \n",
       "19                      Stocard - Rewards Cards Wallet    284725     4.6   \n",
       "20                       Photo Collage - Layout Editor    285788     4.5   \n",
       "21                      Tiny Scanner - PDF Scanner App    286897     4.7   \n",
       "22                         Calculator - unit converter    287250     4.7   \n",
       "23                       TRANSFORMERS: Forged to Fight    291941     4.6   \n",
       "24                                         Soul Knight    292164     4.7   \n",
       "25                                         Word Search    295241     4.7   \n",
       "26                                               CPU-Z    295430     4.5   \n",
       "27                                   New 2018 Keyboard    298321     4.6   \n",
       "28   Any.do: To-do list, Calendar, Reminders & Planner    298843     4.5   \n",
       "29                                          Standoff 2    299046     4.5   \n",
       "..                                                 ...       ...     ...   \n",
       "329  Waze - GPS, Maps, Traffic Alerts & Live Naviga...   7232629     4.6   \n",
       "330   GO Launcher - 3D parallax Themes & HD Wallpapers   7464996     4.5   \n",
       "331  PhotoGrid: Video & Pic Collage Maker, Photo Ed...   7529865     4.6   \n",
       "332   PicsArt Photo Studio: Collage Maker & Pic Editor   7594559     4.5   \n",
       "333   Sniper 3D Gun Shooter: Free Shooting Games - FPS   7671249     4.6   \n",
       "334                         SHAREit - Transfer & Share   7790693     4.6   \n",
       "335  Truecaller: Caller ID, SMS spam blocking & Dialer   7820209     4.5   \n",
       "336                                     Piano Tiles 2™   8118880     4.7   \n",
       "337  Battery Doctor-Battery Life Saver & Battery Co...   8190074     4.5   \n",
       "338                                Asphalt 8: Airborne   8389714     4.5   \n",
       "339             VivaVideo - Video Editor & Photo Movie   9879473     4.6   \n",
       "340                                  My Talking Angela   9881829     4.5   \n",
       "341                           Dream League Soccer 2018   9882639     4.6   \n",
       "342                                            Hay Day  10053186     4.5   \n",
       "343                                            Yes day  10055521     4.5   \n",
       "344           Minion Rush: Despicable Me Official Game  10216538     4.5   \n",
       "345                                      Google Photos  10858556     4.5   \n",
       "346                                     Shadow Fight 2  10979062     4.6   \n",
       "347  Cache Cleaner-DU Speed Booster (booster & clea...  12759663     4.5   \n",
       "348  DU Battery Saver - Battery Charger & Battery Life  13479633     4.5   \n",
       "349                                        8 Ball Pool  14198297     4.5   \n",
       "350                                     My Talking Tom  14891223     4.5   \n",
       "351    360 Security - Free Antivirus, Booster, Cleaner  16771865     4.6   \n",
       "352        UC Browser - Fast Download Private & Secure  17712922     4.5   \n",
       "353                                       Clash Royale  23133508     4.6   \n",
       "354  Security Master - Antivirus, VPN, AppLock, Boo...  24900999     4.7   \n",
       "355                                     Subway Surfers  27722264     4.5   \n",
       "356            Clean Master- Space Cleaner & Antivirus  42916526     4.7   \n",
       "357                                     Clash of Clans  44891723     4.6   \n",
       "358                                          Instagram  66577313     4.5   \n",
       "\n",
       "                Category Content Rating    Installs  \n",
       "0                 FAMILY       Everyone    10000000  \n",
       "1     NEWS AND MAGAZINES       Everyone    10000000  \n",
       "2          VIDEO PLAYERS       Everyone    10000000  \n",
       "3            PHOTOGRAPHY       Everyone    10000000  \n",
       "4       TRAVEL AND LOCAL       Everyone    10000000  \n",
       "5                   GAME       Everyone    10000000  \n",
       "6                   GAME       Everyone    10000000  \n",
       "7                  TOOLS       Everyone    10000000  \n",
       "8                 FAMILY       Everyone    10000000  \n",
       "9       TRAVEL AND LOCAL       Everyone    10000000  \n",
       "10   BOOKS AND REFERENCE       Everyone    10000000  \n",
       "11                  GAME           Teen    10000000  \n",
       "12                  GAME           Teen    10000000  \n",
       "13           PHOTOGRAPHY       Everyone    10000000  \n",
       "14                FAMILY       Everyone    10000000  \n",
       "15    HEALTH AND FITNESS       Everyone    10000000  \n",
       "16       PERSONALIZATION       Everyone    10000000  \n",
       "17                  GAME       Everyone    10000000  \n",
       "18             LIFESTYLE       Everyone    10000000  \n",
       "19              SHOPPING       Everyone    10000000  \n",
       "20           PHOTOGRAPHY       Everyone    10000000  \n",
       "21              BUSINESS       Everyone    10000000  \n",
       "22          PRODUCTIVITY       Everyone    50000000  \n",
       "23                  GAME   Everyone 10+    10000000  \n",
       "24                  GAME   Everyone 10+    10000000  \n",
       "25                  GAME       Everyone    10000000  \n",
       "26                 TOOLS       Everyone    10000000  \n",
       "27       PERSONALIZATION       Everyone    10000000  \n",
       "28          PRODUCTIVITY       Everyone    10000000  \n",
       "29                  GAME     Mature 17+    10000000  \n",
       "..                   ...            ...         ...  \n",
       "329  MAPS AND NAVIGATION       Everyone   100000000  \n",
       "330      PERSONALIZATION       Everyone   100000000  \n",
       "331          PHOTOGRAPHY       Everyone   100000000  \n",
       "332          PHOTOGRAPHY           Teen   100000000  \n",
       "333                 GAME     Mature 17+   100000000  \n",
       "334                TOOLS       Everyone   500000000  \n",
       "335        COMMUNICATION       Everyone   100000000  \n",
       "336                 GAME       Everyone   100000000  \n",
       "337                TOOLS       Everyone   100000000  \n",
       "338                 GAME           Teen   100000000  \n",
       "339        VIDEO PLAYERS           Teen   100000000  \n",
       "340                 GAME       Everyone   100000000  \n",
       "341                 GAME       Everyone   100000000  \n",
       "342               FAMILY       Everyone   100000000  \n",
       "343                 GAME       Everyone   100000000  \n",
       "344                 GAME   Everyone 10+   100000000  \n",
       "345          PHOTOGRAPHY       Everyone  1000000000  \n",
       "346                 GAME   Everyone 10+   100000000  \n",
       "347                TOOLS       Everyone   100000000  \n",
       "348                TOOLS       Everyone   100000000  \n",
       "349                 GAME       Everyone   100000000  \n",
       "350                 GAME       Everyone   500000000  \n",
       "351                TOOLS       Everyone   100000000  \n",
       "352        COMMUNICATION           Teen   500000000  \n",
       "353                 GAME   Everyone 10+   100000000  \n",
       "354                TOOLS       Everyone   500000000  \n",
       "355                 GAME   Everyone 10+  1000000000  \n",
       "356                TOOLS       Everyone   500000000  \n",
       "357                 GAME   Everyone 10+   100000000  \n",
       "358               SOCIAL           Teen  1000000000  \n",
       "\n",
       "[359 rows x 6 columns]"
      ]
     },
     "execution_count": 23,
     "metadata": {},
     "output_type": "execute_result"
    }
   ],
   "source": [
    "df['Rating'] = df['Rating'].apply(lambda x: float(x))\n",
    "df['Reviews'] = df['Reviews'].apply(lambda x: int(x))\n",
    "\n",
    "newdf_rate=df[['App','Rating','Category','Content Rating']].groupby(['Rating'], sort = True)\n",
    "newdf_rate=newdf_rate.filter(lambda x: x['Rating'].mean() >= 4.5)\n",
    "newdf_rate=newdf_rate.sort_values(by=['Rating'])\n",
    "\n",
    "newdf_reviews=df[['App','Reviews']].groupby(['Reviews'], sort = True)\n",
    "newdf_reviews=newdf_reviews.filter(lambda x: x['Reviews'].mean() >= 255435)\n",
    "newdf_reviews=newdf_reviews.sort_values(by=['Reviews'])\n",
    "\n",
    "newdf_installs=df[['App','Installs']].groupby(['Installs'], sort = True)\n",
    "newdf_installs=newdf_installs.filter(lambda x: x['Installs'].mean() >= 10000000)\n",
    "newdf_installs=newdf_installs.sort_values(by=['Installs'])\n",
    "\n",
    "s1 = pd.merge(newdf_reviews, newdf_rate, how='inner', on=['App'])\n",
    "s2 = pd.merge(s1, newdf_installs, how='inner', on=['App'])\n",
    "s2"
   ]
  },
  {
   "cell_type": "markdown",
   "metadata": {},
   "source": [
    "As you can see only **359** apps make it to this list from all categories.The apps you see in this list are well known and famous and best in their respective category.\n",
    "To name a few, apps like **Google Photos, Instagram, Subway surfers,Clash of Clans, Shareit, Dictionary** etc are part of this list.\n"
   ]
  },
  {
   "cell_type": "markdown",
   "metadata": {},
   "source": [
    " # Which Category has more likeable Apps?"
   ]
  },
  {
   "cell_type": "markdown",
   "metadata": {},
   "source": [
    "**I think an App which has large number of reviews , high rating on App store and large number of installs can be deemed to be likeable for any new user * i.e * *any new user is more likely to like the App experience if these criteria are met.***\n",
    "\n",
    "*From the dataframe obtained above we'll plot and see which categories make up most of the likeable apps.*"
   ]
  },
  {
   "cell_type": "code",
   "execution_count": 24,
   "metadata": {},
   "outputs": [
    {
     "data": {
      "text/plain": [
       "Text(0.5, 1.0, 'CATEGORIES OF MOST LIKEABLE APPS ON THE ANDROID APP STORE')"
      ]
     },
     "execution_count": 24,
     "metadata": {},
     "output_type": "execute_result"
    },
    {
     "data": {
      "image/png": "[encoded data removed]",
      "text/plain": [
       "<Figure size 1080x504 with 1 Axes>"
      ]
     },
     "metadata": {
      "needs_background": "light"
     },
     "output_type": "display_data"
    }
   ],
   "source": [
    "rcParams['figure.figsize'] = 15,7\n",
    "likeable_apps = sns.countplot(y=\"Category\",data=s2, palette = \"Set3\")\n",
    "likeable_apps.set_xticklabels(likeable_apps.get_xticklabels(), rotation=90, ha=\"right\")\n",
    "likeable_apps \n",
    "plt.title('CATEGORIES OF MOST LIKEABLE APPS ON THE ANDROID APP STORE',size = 20)"
   ]
  },
  {
   "cell_type": "markdown",
   "metadata": {},
   "source": [
    " **Gaming Apps** outruns other categories by huge margin in the criteria of our most LIKEABLE category.\n",
    "\n",
    "**Does this mean people tend to give reviews and ratings whenever they play a game?** I think yes! **The graph above suggests that you are more likely to give a rating or review for a gaming app then any other app.** Games like **Subway surfer,8ballpool, Clash royale, Clash of Clans** have millions of reviews,high rating and millions of installs.\n",
    "\n",
    "Please note that Communication Apps like **Instagram** etc individually have more number of installs, reviews and higher rating but more Gaming Apps make it to this list than Communication Apps as is evident by the plot above."
   ]
  },
  {
   "cell_type": "markdown",
   "metadata": {},
   "source": []
  }
 ],
 "metadata": {
  "kernelspec": {
   "display_name": "Python 3",
   "language": "python",
   "name": "python3"
  },
  "language_info": {
   "codemirror_mode": {
    "name": "ipython",
    "version": 3
   },
   "file_extension": ".py",
   "mimetype": "text/x-python",
   "name": "python",
   "nbconvert_exporter": "python",
   "pygments_lexer": "ipython3",
   "version": "3.7.3"
  }
 },
 "nbformat": 4,
 "nbformat_minor": 2
}
