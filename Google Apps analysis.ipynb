{
 "cells": [
  {
   "cell_type": "code",
   "execution_count": null,
   "metadata": {},
   "outputs": [],
   "source": [
    "import warnings\n",
    "warnings.filterwarnings('ignore')\n",
    "import numpy as np # linear algebra\n",
    "import pandas as pd # data processing, CSV file I/O (e.g. pd.read_csv)\n",
    "\n",
    "# Input data files are available in the \"../input/\" directory.\n",
    "# For example, running this (by clicking run or pressing Shift+Enter) will list the files in the input directory\n",
    "import matplotlib.pyplot as plt # this is used for the plot the graph \n",
    "import seaborn as sns # used for plot interactive graph.\n",
    "\n",
    "import os\n",
    "from matplotlib import rcParams\n",
    "\n",
    "print(os.listdir(\"../input\"))"
   ]
  },
  {
   "cell_type": "code",
   "execution_count": null,
   "metadata": {},
   "outputs": [],
   "source": [
    "data = pd.read_csv('../input/googleplaystore.csv')\n",
    "data2 = pd.read_csv('../input/googleplaystore_user_reviews.csv')\n",
    "\n",
    "data.head()"
   ]
  },
  {
   "cell_type": "code",
   "execution_count": null,
   "metadata": {},
   "outputs": [],
   "source": [
    "print(\"Shape of the dataframe is\",data.shape)\n",
    "print(\"The number of nulls in each column are \\n\", data.isna().sum())"
   ]
  },
  {
   "cell_type": "code",
   "execution_count": null,
   "metadata": {},
   "outputs": [],
   "source": [
    "print(\"Percentage null or na values in df\")\n",
    "((data.isnull() | data.isna()).sum() * 100 / data.index.size).round(2)"
   ]
  },
  {
   "cell_type": "code",
   "execution_count": null,
   "metadata": {},
   "outputs": [],
   "source": [
    "df=data\n",
    "df.Installs = df.Installs.replace(\"Free\", np.nan)\n",
    "df.dropna(how ='any', inplace = True)\n",
    "df.Installs = df.Installs.astype(str)\n",
    "df.Installs = df.Installs.apply(lambda x: x.replace(',',''))\n",
    "df.Installs = df.Installs.apply(lambda x: x.replace('+',''))\n",
    "df.Installs = df.Installs.apply(lambda x: int(x))\n",
    "df.head()"
   ]
  },
  {
   "cell_type": "code",
   "execution_count": null,
   "metadata": {},
   "outputs": [],
   "source": [
    "df['Size'].replace('Varies with device', np.nan, inplace = True ) \n",
    "df.Size = (df.Size.replace(r'[kM]+$', '', regex=True).astype(float) * \\\n",
    "df.Size.str.extract(r'[\\d\\.]+([KM]+)', expand=False)\n",
    "            .fillna(1)\n",
    "            .replace(['k','M'], [10**3, 10**6]).astype(int))\n",
    "df.Size = df.Size.apply(lambda x: x/(10**6))\n",
    "df.rename(columns={'Size': 'Size(in MB)'}, inplace=True)\n",
    "# df.Size.unique()\n",
    "# df.head()\n",
    "df.Category = df.Category.apply(lambda x: x.replace('_',' '))\n",
    "df.Price = df.Price.apply(lambda x: x.replace('$',''))\n",
    "df.rename(columns={'Price': 'Price(in $)'}, inplace=True)"
   ]
  },
  {
   "cell_type": "markdown",
   "metadata": {},
   "source": [
    "# Data Visualization"
   ]
  },
  {
   "cell_type": "code",
   "execution_count": null,
   "metadata": {},
   "outputs": [],
   "source": [
    "rcParams['figure.figsize'] = 15,7\n",
    "category_plot = sns.countplot(x=\"Category\",data=df, palette = \"spring\")\n",
    "category_plot.set_xticklabels(category_plot.get_xticklabels(), rotation=90, ha=\"right\")\n",
    "category_plot \n",
    "plt.title('TOTAL apps in each category',size = 20)"
   ]
  },
  {
   "cell_type": "markdown",
   "metadata": {},
   "source": [
    "**Family,Game and Tools** are the most downloaded categories.\n"
   ]
  },
  {
   "cell_type": "code",
   "execution_count": null,
   "metadata": {},
   "outputs": [],
   "source": [
    "rcParams['figure.figsize'] = 15,7\n",
    "content_plot = sns.countplot(x=\"Content Rating\",data=df, palette = \"pink\")\n",
    "content_plot.set_xticklabels(content_plot.get_xticklabels(), rotation=90, ha=\"right\")\n",
    "content_plot \n",
    "plt.title('Content Rating distribution',size = 20)"
   ]
  },
  {
   "cell_type": "markdown",
   "metadata": {},
   "source": [
    "* **Everyone , Teen** constitute the majority Content Rating of all the apps.\n",
    "* **Unrated and Adults ony 18+** have count less then 10."
   ]
  },
  {
   "cell_type": "code",
   "execution_count": null,
   "metadata": {},
   "outputs": [],
   "source": [
    "rcParams['figure.figsize'] = 10,7\n",
    "type_plot = sns.countplot(x=\"Type\", data=df, palette = \"twilight\")\n",
    "type_plot.set_xticklabels(type_plot.get_xticklabels(), rotation=90, ha=\"right\")\n",
    "type_plot \n",
    "plt.title('Number of Free Apps vs Paid Apps',size = 20)"
   ]
  },
  {
   "cell_type": "markdown",
   "metadata": {},
   "source": [
    "* The number of **FREE APPS**=7588\n",
    "* The number of **PAID APPS**=602\n",
    "\n",
    "Most of the Apps in the App Store are **Free apps**.We will visualize both the Types in detail later in the kernel."
   ]
  },
  {
   "cell_type": "code",
   "execution_count": null,
   "metadata": {},
   "outputs": [],
   "source": [
    "rcParams['figure.figsize'] = 10,7\n",
    "type_size = sns.boxplot(x=\"Type\",y=\"Size(in MB)\", data=df, palette = \"rainbow\")\n",
    "type_size.set_xticklabels(type_size.get_xticklabels(), rotation=90, ha=\"right\")\n",
    "type_size \n",
    "plt.title('Size Range for free and paid Apps',size = 20)"
   ]
  },
  {
   "cell_type": "code",
   "execution_count": null,
   "metadata": {},
   "outputs": [],
   "source": [
    "rcParams['figure.figsize'] = 15,10\n",
    "content_price = sns.stripplot(y=\"Content Rating\",x=\"Price(in $)\", data=df, palette = \"Set1\")\n",
    "content_price.set_xticklabels(content_price.get_xticklabels(), rotation=90, ha=\"right\")\n",
    "content_price \n",
    "plt.title('Content Rating vs Price',size = 20)"
   ]
  },
  {
   "cell_type": "markdown",
   "metadata": {},
   "source": [
    "* Most of the Apps with Content Rating EVERYONE lie below 50 dollars. However there are some apps that lie in the 350-400 dollars bracket!!\n",
    "* The mature rated apps(10+, 17+, 18+) are mosty free or cheap."
   ]
  },
  {
   "cell_type": "markdown",
   "metadata": {},
   "source": [
    "## PRICE DISTRIBUTION"
   ]
  },
  {
   "cell_type": "code",
   "execution_count": null,
   "metadata": {},
   "outputs": [],
   "source": [
    "df['Price(in $)'] = df['Price(in $)'].apply(lambda x: float(x))\n",
    "rcParams['figure.figsize'] = 15,7\n",
    "priced_apps=df[df['Price(in $)'] != 0.0]\n",
    "price_plot = sns.countplot(priced_apps['Price(in $)'], palette = \"inferno\")\n",
    "price_plot.set_xticklabels(price_plot.get_xticklabels(), rotation=90, ha=\"right\")\n",
    "price_plot \n",
    "plt.title('Number of apps for every price',size = 20)"
   ]
  },
  {
   "cell_type": "markdown",
   "metadata": {},
   "source": [
    "1. We have filtered only the priced apps from the Price column to see the price distributution of priced apps.\n",
    "2. Most paid apps are priced **3.02 Dollars** interestingly.\n",
    "3. Paid apps mostly cost **3.02 dollars, 0.99 dollars ,5.49 dollars ,2.00 dollars or 4.29 dollars**"
   ]
  },
  {
   "cell_type": "markdown",
   "metadata": {},
   "source": [
    "## INSTALLS DISTRIBUTION"
   ]
  },
  {
   "cell_type": "code",
   "execution_count": null,
   "metadata": {},
   "outputs": [],
   "source": [
    "rcParams['figure.figsize'] = 15,7\n",
    "install_plot = sns.countplot(y=\"Installs\",data=df, palette = \"PuBu\")\n",
    "install_plot.set_xticklabels(install_plot.get_xticklabels(), rotation=90, ha=\"right\")\n",
    "install_plot \n",
    "plt.title('Installs count distribution',size = 20)"
   ]
  },
  {
   "cell_type": "markdown",
   "metadata": {},
   "source": [
    "Most of the apps in the dataframe have **1 million** installs followed by **10 million** and **100k**."
   ]
  },
  {
   "cell_type": "markdown",
   "metadata": {},
   "source": [
    "## RATINGS"
   ]
  },
  {
   "cell_type": "code",
   "execution_count": null,
   "metadata": {},
   "outputs": [],
   "source": [
    "rcParams['figure.figsize'] = 15,7\n",
    "ratings_plot = sns.countplot(x=\"Rating\",data=df, palette = \"inferno\")\n",
    "ratings_plot.set_xticklabels(ratings_plot.get_xticklabels(), rotation=90, ha=\"right\")\n",
    "ratings_plot \n",
    "plt.title('Rating Distribution',size = 20)"
   ]
  },
  {
   "cell_type": "markdown",
   "metadata": {},
   "source": [
    "1. The Ratings distribution is **left skewed.**\n",
    "2. Most of the apps are rated **between 4.0 and 4.7.**"
   ]
  },
  {
   "cell_type": "code",
   "execution_count": null,
   "metadata": {},
   "outputs": [],
   "source": [
    "content_ratings = sns.violinplot(x=\"Content Rating\",y=\"Rating\",data=df, kind=\"box\", height = 10 ,palette = \"Set3\")\n",
    "content_ratings.set_xlabel(xlabel = 'Content Rating', fontsize = 9)\n",
    "content_ratings.set_ylabel(ylabel = 'Rating', fontsize = 9)\n",
    "content_ratings.set_title(label = 'Rating vs Content Rating', fontsize = 20)\n",
    "plt.show()"
   ]
  },
  {
   "cell_type": "markdown",
   "metadata": {},
   "source": [
    "# How much do Free Apps and Paid Apps differ?"
   ]
  },
  {
   "cell_type": "markdown",
   "metadata": {},
   "source": [
    "### Exploring Free Apps"
   ]
  },
  {
   "cell_type": "markdown",
   "metadata": {},
   "source": [
    "### First step is to get the most installed free apps."
   ]
  },
  {
   "cell_type": "code",
   "execution_count": null,
   "metadata": {},
   "outputs": [],
   "source": [
    "df= df.drop_duplicates(subset='App',keep='first')\n",
    "df['Installs'] = df['Installs'].apply(lambda x: int(x))\n",
    "df[['App','Installs','Category','Content Rating','Price(in $)']].head()\n",
    "newdf=df[['App','Installs','Category','Content Rating','Price(in $)','Reviews','Genres']].groupby(['Installs'], sort = True)\n",
    "newdf=newdf.filter(lambda x: x['Installs'].mean() >= 1000000000)\n",
    "newdf=newdf.sort_values(by=['Installs'])\n",
    "newdf"
   ]
  },
  {
   "cell_type": "markdown",
   "metadata": {},
   "source": [
    "### Next step is to visualize the TOP CATEGORIES out of most installed FREE APPS in the dataframe obtained above."
   ]
  },
  {
   "cell_type": "code",
   "execution_count": null,
   "metadata": {},
   "outputs": [],
   "source": [
    "rcParams['figure.figsize'] = 15,7\n",
    "free_categories = sns.countplot(x=\"Category\",data=newdf, palette = \"bone\")\n",
    "free_categories.set_xticklabels(free_categories.get_xticklabels(), rotation=90, ha=\"right\")\n",
    "free_categories \n",
    "plt.title('Top Categories for Free Apps',size = 20)"
   ]
  },
  {
   "cell_type": "markdown",
   "metadata": {},
   "source": [
    "### Now, lets get the TOP GENRES out of all the highest installed FREE APPS"
   ]
  },
  {
   "cell_type": "code",
   "execution_count": null,
   "metadata": {},
   "outputs": [],
   "source": [
    "rcParams['figure.figsize'] = 15,7\n",
    "free_genres = sns.countplot(y=\"Genres\",data=newdf, palette = \"spring\")\n",
    "free_genres.set_xticklabels(free_genres.get_xticklabels(), rotation=90, ha=\"right\")\n",
    "free_genres \n",
    "plt.title('Top Genres for Free Apps',size = 20)"
   ]
  },
  {
   "cell_type": "markdown",
   "metadata": {},
   "source": [
    "## Exploring Paid Apps"
   ]
  },
  {
   "cell_type": "markdown",
   "metadata": {},
   "source": [
    "### First step is to find the highest installed paid Apps"
   ]
  },
  {
   "cell_type": "code",
   "execution_count": null,
   "metadata": {},
   "outputs": [],
   "source": [
    "new=df[['App','Category','Content Rating','Price(in $)','Reviews']].groupby(['Price(in $)'], sort = True)\n",
    "new=new.filter(lambda x: x['Price(in $)'].mean() != 0)\n",
    "new=new.sort_values(by=['Price(in $)'])\n",
    "new\n",
    "newdf2=df[['App','Installs','Genres']].groupby(['Installs'], sort = True)\n",
    "newdf2=newdf2.filter(lambda x: x['Installs'].mean() >= 1000000)\n",
    "newdf2=newdf2.sort_values(by=['Installs'])\n",
    "newdf2\n",
    "\n",
    "s1 = pd.merge(new, newdf2, how='inner', on=['App'])\n",
    "s1"
   ]
  },
  {
   "cell_type": "markdown",
   "metadata": {},
   "source": [
    "### Next step is to visualize the TOP CATEGORIES out of most installed PAID APPS in the dataframe obtained above."
   ]
  },
  {
   "cell_type": "code",
   "execution_count": null,
   "metadata": {},
   "outputs": [],
   "source": [
    "rcParams['figure.figsize'] = 15,7\n",
    "paid_categories = sns.countplot(x=\"Category\",data=s1, palette = \"bone\")\n",
    "paid_categories.set_xticklabels(paid_categories.get_xticklabels(), rotation=90, ha=\"right\")\n",
    "paid_categories \n",
    "plt.title('Top Categories for PAID APPS',size = 20)"
   ]
  },
  {
   "cell_type": "markdown",
   "metadata": {},
   "source": [
    "### Now, lets get the TOP GENRES out of all the highest installed PAID APPS"
   ]
  },
  {
   "cell_type": "code",
   "execution_count": null,
   "metadata": {},
   "outputs": [],
   "source": [
    "rcParams['figure.figsize'] = 15,7\n",
    "paid_genres = sns.countplot(y=\"Genres\",data=s1, palette = \"spring\")\n",
    "paid_genres.set_xticklabels(paid_genres.get_xticklabels(), rotation=90, ha=\"right\")\n",
    "paid_genres \n",
    "plt.title('Top Genres for PAID APPS',size = 20)"
   ]
  },
  {
   "cell_type": "markdown",
   "metadata": {},
   "source": [
    "## Summary for Free vs Paid Apps:-"
   ]
  },
  {
   "cell_type": "markdown",
   "metadata": {},
   "source": [
    "1. **People tend to spend their money on games and Personalization but when it comes to Social Networking and Communication they tend to install the free Apps on the Android Store**.\n",
    "1.  The **2 most installed Paid Apps** are both **games(Minecraft and Hitman:Sniper)**\n",
    "1.  The majority of most installed **free** Apps lie in the **Communication** Category.\n",
    "1.  The majority of most installed **Paid** Apps lie in the **Gaming** Category.\n",
    "1. The **Content Rating** for Free apps is mostly for Everyone or Teen , but for Paid Apps 6 out of 22 apps are not for users under 10 years of age."
   ]
  },
  {
   "cell_type": "markdown",
   "metadata": {},
   "source": [
    "# Is there a relation between the Android Update Dates of all the Apps?"
   ]
  },
  {
   "cell_type": "code",
   "execution_count": null,
   "metadata": {},
   "outputs": [],
   "source": [
    "df['new'] = pd.to_datetime(df['Last Updated'])\n",
    "df.drop(labels = ['Last Updated'], axis = 1, inplace = True)\n",
    "df.rename(columns={'new': 'Last Updated'}, inplace=True)\n",
    "freq= pd.Series()\n",
    "freq=df['Last Updated'].value_counts()\n",
    "newfreq=freq[freq>50]\n",
    "newfreq.plot()\n",
    "plt.xlabel(\"Dates\")\n",
    "plt.ylabel(\"Number of updates\")\n",
    "plt.title(\"Time series plot of Last Updates\")"
   ]
  },
  {
   "cell_type": "markdown",
   "metadata": {},
   "source": [
    "* I have filtered and selected the dates on which most number of Apps were last updated.\n",
    "* The above plot shows that between **July 15,2018** and **August 1,2018** majority of the Apps were updated as is clear by the upward trend in the graph above."
   ]
  },
  {
   "cell_type": "markdown",
   "metadata": {},
   "source": [
    "# Which are the best Apps on App Store?"
   ]
  },
  {
   "cell_type": "markdown",
   "metadata": {},
   "source": [
    "### The criteria I have selected are:\n",
    "1. High **rating**\n",
    "1. Large number of **reviews**\n",
    "1. Large number of **installs**\n",
    "\n",
    "\n",
    "* I haven't taken **Price** as a parameter for this selection because I believe an expensive app can be perceived to be better than a similar free app if it has high rating,reviews and installs.\n",
    "* I think features like **Content Rating, Android Version, Last Update time, Size of the App, Current version of the App** are irrelevant in this selection as well for obvious reasons."
   ]
  },
  {
   "cell_type": "code",
   "execution_count": null,
   "metadata": {},
   "outputs": [],
   "source": [
    "df['Rating'] = df['Rating'].apply(lambda x: float(x))\n",
    "df['Reviews'] = df['Reviews'].apply(lambda x: int(x))\n",
    "\n",
    "newdf_rate=df[['App','Rating','Category','Content Rating']].groupby(['Rating'], sort = True)\n",
    "newdf_rate=newdf_rate.filter(lambda x: x['Rating'].mean() >= 4.5)\n",
    "newdf_rate=newdf_rate.sort_values(by=['Rating'])\n",
    "\n",
    "newdf_reviews=df[['App','Reviews']].groupby(['Reviews'], sort = True)\n",
    "newdf_reviews=newdf_reviews.filter(lambda x: x['Reviews'].mean() >= 255435)\n",
    "newdf_reviews=newdf_reviews.sort_values(by=['Reviews'])\n",
    "\n",
    "newdf_installs=df[['App','Installs']].groupby(['Installs'], sort = True)\n",
    "newdf_installs=newdf_installs.filter(lambda x: x['Installs'].mean() >= 10000000)\n",
    "newdf_installs=newdf_installs.sort_values(by=['Installs'])\n",
    "\n",
    "s1 = pd.merge(newdf_reviews, newdf_rate, how='inner', on=['App'])\n",
    "s2 = pd.merge(s1, newdf_installs, how='inner', on=['App'])\n",
    "s2"
   ]
  },
  {
   "cell_type": "markdown",
   "metadata": {},
   "source": [
    "As you can see only **359** apps make it to this list from all categories.The apps you see in this list are well known and famous and best in their respective category.\n",
    "To name a few, apps like **Google Photos, Instagram, Subway surfers,Clash of Clans, Shareit, Dictionary** etc are part of this list.\n"
   ]
  },
  {
   "cell_type": "markdown",
   "metadata": {},
   "source": [
    " # Which Category has more likeable Apps?"
   ]
  },
  {
   "cell_type": "markdown",
   "metadata": {},
   "source": [
    "**I think an App which has large number of reviews , high rating on App store and large number of installs can be deemed to be likeable for any new user * i.e * *any new user is more likely to like the App experience if these criteria are met.***\n",
    "\n",
    "*From the dataframe obtained above we'll plot and see which categories make up most of the likeable apps.*"
   ]
  },
  {
   "cell_type": "code",
   "execution_count": null,
   "metadata": {},
   "outputs": [],
   "source": [
    "rcParams['figure.figsize'] = 15,7\n",
    "likeable_apps = sns.countplot(y=\"Category\",data=s2, palette = \"Set3\")\n",
    "likeable_apps.set_xticklabels(likeable_apps.get_xticklabels(), rotation=90, ha=\"right\")\n",
    "likeable_apps \n",
    "plt.title('CATEGORIES OF MOST LIKEABLE APPS ON THE ANDROID APP STORE',size = 20)"
   ]
  },
  {
   "cell_type": "markdown",
   "metadata": {},
   "source": [
    " **Gaming Apps** outruns other categories by huge margin in the criteria of our most LIKEABLE category.\n",
    "\n",
    "**Does this mean people tend to give reviews and ratings whenever they play a game?** I think yes! **The graph above suggests that you are more likely to give a rating or review for a gaming app then any other app.** Games like **Subway surfer,8ballpool, Clash royale, Clash of Clans** have millions of reviews,high rating and millions of installs.\n",
    "\n",
    "Please note that Communication Apps like **Instagram** etc individually have more number of installs, reviews and higher rating but more Gaming Apps make it to this list than Communication Apps as is evident by the plot above."
   ]
  },
  {
   "cell_type": "markdown",
   "metadata": {},
   "source": []
  }
 ],
 "metadata": {
  "kernelspec": {
   "display_name": "Python 3",
   "language": "python",
   "name": "python3"
  },
  "language_info": {
   "codemirror_mode": {
    "name": "ipython",
    "version": 3
   },
   "file_extension": ".py",
   "mimetype": "text/x-python",
   "name": "python",
   "nbconvert_exporter": "python",
   "pygments_lexer": "ipython3",
   "version": "3.7.3"
  }
 },
 "nbformat": 4,
 "nbformat_minor": 2
}
